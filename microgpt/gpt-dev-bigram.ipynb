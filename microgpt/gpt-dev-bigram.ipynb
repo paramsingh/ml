{
 "cells": [
  {
   "cell_type": "code",
   "execution_count": 1,
   "metadata": {},
   "outputs": [],
   "source": [
    "import torch\n",
    "import torch.nn.functional as F\n",
    "import torch.nn as nn\n",
    "import matplotlib.pyplot as plt # for making figures\n",
    "%matplotlib inline"
   ]
  },
  {
   "cell_type": "code",
   "execution_count": 2,
   "metadata": {},
   "outputs": [
    {
     "name": "stdout",
     "output_type": "stream",
     "text": [
      "vocab_size=65\n"
     ]
    },
    {
     "data": {
      "text/plain": [
       "tensor([24,  2, 31, 28, 11,  9, 23,  2, 11,  2, 21,  3, 16, 58, 39, 61,  3,  4,\n",
       "        51, 31])"
      ]
     },
     "execution_count": 2,
     "metadata": {},
     "output_type": "execute_result"
    }
   ],
   "source": [
    "data = open('input.txt').read()\n",
    "alphabet = set([c for c in data])\n",
    "stoi = {s:i for i,s in enumerate(alphabet)}\n",
    "itos = {value: key for key, value in stoi.items()}\n",
    "vocab_size = len(alphabet)\n",
    "print(f\"{vocab_size=}\")\n",
    "def encode(s):\n",
    "    return [stoi[c] for c in s]\n",
    "\n",
    "def decode(encoded):\n",
    "    return ''.join([itos[i] for i in encoded])\n",
    "\n",
    "encoded = torch.tensor(encode(data), dtype=torch.long)\n",
    "encoded[:20]"
   ]
  },
  {
   "cell_type": "code",
   "execution_count": 3,
   "metadata": {},
   "outputs": [],
   "source": [
    "x = int(0.9 * len(data))\n",
    "training_data = encoded[:x]\n",
    "validation_data = encoded[x:]"
   ]
  },
  {
   "cell_type": "code",
   "execution_count": 4,
   "metadata": {},
   "outputs": [
    {
     "data": {
      "text/plain": [
       "(tensor([[16, 11],\n",
       "         [16,  2],\n",
       "         [31,  9],\n",
       "         [31, 31],\n",
       "         [43, 51],\n",
       "         [12, 53],\n",
       "         [ 8, 39],\n",
       "         [ 9,  4],\n",
       "         [ 9, 29],\n",
       "         [51, 64],\n",
       "         [56, 34],\n",
       "         [ 9, 10],\n",
       "         [11,  9],\n",
       "         [60, 60],\n",
       "         [16, 11],\n",
       "         [51, 16],\n",
       "         [ 3,  9],\n",
       "         [29,  3],\n",
       "         [48, 51],\n",
       "         [51, 31],\n",
       "         [12, 31],\n",
       "         [64, 11],\n",
       "         [11, 29],\n",
       "         [39, 50],\n",
       "         [ 3,  9],\n",
       "         [48, 12],\n",
       "         [35, 51],\n",
       "         [16, 48],\n",
       "         [11, 29],\n",
       "         [31, 16],\n",
       "         [28,  9],\n",
       "         [51, 31]]),\n",
       " tensor([[11,  1],\n",
       "         [ 2, 64],\n",
       "         [ 9, 12],\n",
       "         [31, 35],\n",
       "         [51, 64],\n",
       "         [53,  3],\n",
       "         [39, 30],\n",
       "         [ 4, 51],\n",
       "         [29, 12],\n",
       "         [64, 59],\n",
       "         [34, 58],\n",
       "         [10, 59],\n",
       "         [ 9, 56],\n",
       "         [60, 50],\n",
       "         [11,  2],\n",
       "         [16,  9],\n",
       "         [ 9, 11],\n",
       "         [ 3, 31],\n",
       "         [51, 51],\n",
       "         [31,  3],\n",
       "         [31,  9],\n",
       "         [11,  9],\n",
       "         [29, 12],\n",
       "         [50, 28],\n",
       "         [ 9, 29],\n",
       "         [12, 11],\n",
       "         [51, 64],\n",
       "         [48,  9],\n",
       "         [29,  3],\n",
       "         [16,  9],\n",
       "         [ 9, 28],\n",
       "         [31, 59]]))"
      ]
     },
     "execution_count": 4,
     "metadata": {},
     "output_type": "execute_result"
    }
   ],
   "source": [
    "torch.manual_seed(42)\n",
    "batch_size = 32\n",
    "block_size = 2\n",
    "\n",
    "def get_batch(split):\n",
    "    data = training_data if split == 'train' else validation_data\n",
    "    indices = torch.randint(0, data.shape[0] - 1 - block_size, (batch_size,))\n",
    "    xs = torch.stack([data[i:i+block_size] for i in indices])\n",
    "    ys = torch.stack([data[i+1:i+block_size+1] for i in indices])\n",
    "    return xs, ys\n",
    "\n",
    "xbatch, ybatch = get_batch('train')\n",
    "xbatch, ybatch"
   ]
  },
  {
   "cell_type": "code",
   "execution_count": 5,
   "metadata": {},
   "outputs": [],
   "source": [
    "class BigramLanguageModel(nn.Module):\n",
    "    def __init__(self):\n",
    "        super().__init__()\n",
    "        self.embeddings = nn.Embedding(vocab_size, vocab_size)\n",
    "\n",
    "    def forward(self, x, targets=None):\n",
    "        logits = self.embeddings(x)\n",
    "        loss = None\n",
    "        if targets is not None:            \n",
    "            B, T, C = logits.shape\n",
    "            loss = F.cross_entropy(logits.view(B*T, C), targets.view(B*T))\n",
    "        return loss, logits\n",
    "\n",
    "    def generate(self, length):\n",
    "        result = ''\n",
    "        context = torch.randint(0, vocab_size, (1,1))\n",
    "        for _ in range(length):\n",
    "            _, logits = self(context)\n",
    "            logits = logits[:, -1, :]\n",
    "            probs = F.softmax(logits, dim=-1)\n",
    "            sample = torch.multinomial(probs, 1, replacement=True)\n",
    "            context = torch.cat([context, sample], dim=1)\n",
    "            if context.shape[0] >= block_size:\n",
    "                context = context[1:]\n",
    "            result += itos[sample.item()]\n",
    "        return result\n"
   ]
  },
  {
   "cell_type": "code",
   "execution_count": 6,
   "metadata": {},
   "outputs": [
    {
     "data": {
      "text/plain": [
       "\"m\\n'UWPL3Sy\""
      ]
     },
     "execution_count": 6,
     "metadata": {},
     "output_type": "execute_result"
    }
   ],
   "source": [
    "m = BigramLanguageModel()\n",
    "m.generate(10)"
   ]
  },
  {
   "cell_type": "code",
   "execution_count": 7,
   "metadata": {},
   "outputs": [
    {
     "name": "stdout",
     "output_type": "stream",
     "text": [
      "step 0 loss 4.765219211578369\n",
      "step 1000 loss 2.754122018814087\n",
      "step 2000 loss 2.396500587463379\n",
      "step 3000 loss 2.238596200942993\n",
      "step 4000 loss 2.4416000843048096\n",
      "step 5000 loss 2.3428430557250977\n",
      "step 6000 loss 2.087489128112793\n",
      "step 7000 loss 2.4478049278259277\n",
      "step 8000 loss 2.6855592727661133\n",
      "step 9000 loss 2.4716744422912598\n",
      "step 10000 loss 2.594951629638672\n",
      "step 11000 loss 2.180602788925171\n",
      "step 12000 loss 2.405285120010376\n",
      "step 13000 loss 2.4463326930999756\n",
      "step 14000 loss 2.1488215923309326\n",
      "step 15000 loss 2.429865837097168\n",
      "step 16000 loss 2.4052703380584717\n",
      "step 17000 loss 2.6848952770233154\n",
      "step 18000 loss 2.687744617462158\n",
      "step 19000 loss 2.1675758361816406\n",
      "step 20000 loss 2.213557720184326\n",
      "step 21000 loss 2.4597198963165283\n",
      "step 22000 loss 2.563007116317749\n",
      "step 23000 loss 2.483511209487915\n",
      "step 24000 loss 2.693450450897217\n",
      "step 25000 loss 2.7856009006500244\n",
      "step 26000 loss 2.692096471786499\n",
      "step 27000 loss 2.5742881298065186\n",
      "step 28000 loss 2.1358284950256348\n",
      "step 29000 loss 2.495004653930664\n",
      "step 30000 loss 2.3228557109832764\n",
      "step 31000 loss 2.407827377319336\n",
      "step 32000 loss 2.545454502105713\n",
      "step 33000 loss 2.3054921627044678\n",
      "step 34000 loss 2.593869924545288\n",
      "step 35000 loss 2.518768787384033\n",
      "step 36000 loss 2.7290806770324707\n",
      "step 37000 loss 2.489135265350342\n",
      "step 38000 loss 2.3914153575897217\n",
      "step 39000 loss 2.55470609664917\n",
      "step 40000 loss 2.4299113750457764\n",
      "step 41000 loss 2.4506683349609375\n",
      "step 42000 loss 2.5251355171203613\n",
      "step 43000 loss 2.2252604961395264\n",
      "step 44000 loss 2.5252838134765625\n",
      "step 45000 loss 2.6016130447387695\n",
      "step 46000 loss 2.4154927730560303\n",
      "step 47000 loss 2.391450881958008\n",
      "step 48000 loss 2.496145009994507\n",
      "step 49000 loss 2.501835346221924\n",
      "step 50000 loss 2.404963731765747\n",
      "step 51000 loss 2.541856288909912\n",
      "step 52000 loss 2.2933568954467773\n",
      "step 53000 loss 2.38191556930542\n",
      "step 54000 loss 2.7332820892333984\n",
      "step 55000 loss 2.5319652557373047\n",
      "step 56000 loss 2.480825662612915\n",
      "step 57000 loss 2.507505416870117\n",
      "step 58000 loss 2.4316556453704834\n",
      "step 59000 loss 2.4532251358032227\n",
      "step 60000 loss 2.493281602859497\n",
      "step 61000 loss 2.352825403213501\n",
      "step 62000 loss 2.6547985076904297\n",
      "step 63000 loss 2.4134957790374756\n",
      "step 64000 loss 2.3570916652679443\n",
      "step 65000 loss 2.419593095779419\n",
      "step 66000 loss 2.5210227966308594\n",
      "step 67000 loss 2.4249517917633057\n",
      "step 68000 loss 2.758867025375366\n",
      "step 69000 loss 2.586944818496704\n",
      "step 70000 loss 2.4150519371032715\n",
      "step 71000 loss 2.2526702880859375\n",
      "step 72000 loss 2.573258876800537\n",
      "step 73000 loss 2.407839298248291\n",
      "step 74000 loss 2.210855007171631\n",
      "step 75000 loss 2.5667049884796143\n",
      "step 76000 loss 2.431894063949585\n",
      "step 77000 loss 2.3886971473693848\n",
      "step 78000 loss 2.5025808811187744\n",
      "step 79000 loss 2.5899648666381836\n",
      "step 80000 loss 2.47025203704834\n",
      "step 81000 loss 2.4615488052368164\n",
      "step 82000 loss 2.419160842895508\n",
      "step 83000 loss 2.383465528488159\n",
      "step 84000 loss 2.536388635635376\n",
      "step 85000 loss 2.436288356781006\n",
      "step 86000 loss 2.5109806060791016\n",
      "step 87000 loss 2.518734931945801\n",
      "step 88000 loss 2.3249669075012207\n",
      "step 89000 loss 2.3134496212005615\n",
      "step 90000 loss 2.5469377040863037\n",
      "step 91000 loss 2.1707849502563477\n",
      "step 92000 loss 2.402358293533325\n",
      "step 93000 loss 2.740330219268799\n",
      "step 94000 loss 2.22770094871521\n",
      "step 95000 loss 2.469896078109741\n",
      "step 96000 loss 2.3875551223754883\n",
      "step 97000 loss 2.507009506225586\n",
      "step 98000 loss 2.500241756439209\n",
      "step 99000 loss 2.598647117614746\n",
      "step 100000 loss 2.213693618774414\n",
      "step 101000 loss 2.6819345951080322\n",
      "step 102000 loss 2.482457160949707\n",
      "step 103000 loss 2.7938835620880127\n",
      "step 104000 loss 2.3924624919891357\n",
      "step 105000 loss 2.241328239440918\n",
      "step 106000 loss 2.426614284515381\n",
      "step 107000 loss 2.437811851501465\n",
      "step 108000 loss 2.399651288986206\n",
      "step 109000 loss 2.398069381713867\n",
      "step 110000 loss 2.303518533706665\n",
      "step 111000 loss 2.3674960136413574\n",
      "step 112000 loss 2.477762222290039\n",
      "step 113000 loss 2.2307839393615723\n",
      "step 114000 loss 2.442396402359009\n",
      "step 115000 loss 2.2237062454223633\n",
      "step 116000 loss 2.545639753341675\n",
      "step 117000 loss 2.3636739253997803\n",
      "step 118000 loss 2.5299453735351562\n",
      "step 119000 loss 2.37919282913208\n",
      "step 120000 loss 2.2921335697174072\n",
      "step 121000 loss 2.4275949001312256\n",
      "step 122000 loss 2.5111093521118164\n",
      "step 123000 loss 2.446502208709717\n",
      "step 124000 loss 2.461364269256592\n",
      "step 125000 loss 2.475673198699951\n",
      "step 126000 loss 2.337757110595703\n",
      "step 127000 loss 2.553914785385132\n",
      "step 128000 loss 2.390306234359741\n",
      "step 129000 loss 2.5900380611419678\n",
      "step 130000 loss 2.427055835723877\n",
      "step 131000 loss 2.7555952072143555\n",
      "step 132000 loss 2.5283141136169434\n",
      "step 133000 loss 2.417985677719116\n",
      "step 134000 loss 2.2633249759674072\n",
      "step 135000 loss 2.6178717613220215\n",
      "step 136000 loss 2.672363042831421\n",
      "step 137000 loss 2.347123384475708\n",
      "step 138000 loss 2.5972044467926025\n",
      "step 139000 loss 2.487452268600464\n",
      "step 140000 loss 2.5730197429656982\n",
      "step 141000 loss 2.5932583808898926\n",
      "step 142000 loss 2.500825881958008\n",
      "step 143000 loss 2.4788200855255127\n",
      "step 144000 loss 2.5737152099609375\n",
      "step 145000 loss 2.317934989929199\n",
      "step 146000 loss 2.4010443687438965\n",
      "step 147000 loss 2.446866512298584\n",
      "step 148000 loss 2.432591199874878\n",
      "step 149000 loss 2.536167860031128\n",
      "step 150000 loss 2.5819814205169678\n",
      "step 151000 loss 2.50447416305542\n",
      "step 152000 loss 2.434445858001709\n",
      "step 153000 loss 2.360976219177246\n",
      "step 154000 loss 2.4712600708007812\n",
      "step 155000 loss 2.4785337448120117\n",
      "step 156000 loss 2.43410587310791\n",
      "step 157000 loss 2.281243324279785\n",
      "step 158000 loss 2.250371217727661\n",
      "step 159000 loss 2.3210439682006836\n",
      "step 160000 loss 2.6004059314727783\n",
      "step 161000 loss 2.5986597537994385\n",
      "step 162000 loss 2.649519681930542\n",
      "step 163000 loss 2.399249792098999\n",
      "step 164000 loss 2.5761280059814453\n",
      "step 165000 loss 2.568615198135376\n",
      "step 166000 loss 2.2625322341918945\n",
      "step 167000 loss 2.3719215393066406\n",
      "step 168000 loss 2.410309076309204\n",
      "step 169000 loss 2.371814489364624\n",
      "step 170000 loss 2.488945484161377\n",
      "step 171000 loss 2.263349771499634\n",
      "step 172000 loss 2.412959337234497\n",
      "step 173000 loss 2.268340587615967\n",
      "step 174000 loss 2.359013080596924\n",
      "step 175000 loss 2.4270052909851074\n",
      "step 176000 loss 2.411388397216797\n",
      "step 177000 loss 2.6851649284362793\n",
      "step 178000 loss 2.505075693130493\n",
      "step 179000 loss 2.3139543533325195\n",
      "step 180000 loss 2.6736645698547363\n",
      "step 181000 loss 2.529913902282715\n",
      "step 182000 loss 2.218271017074585\n",
      "step 183000 loss 2.2467668056488037\n",
      "step 184000 loss 2.5503861904144287\n",
      "step 185000 loss 2.522155284881592\n",
      "step 186000 loss 2.805609941482544\n",
      "step 187000 loss 2.600079298019409\n",
      "step 188000 loss 2.6108598709106445\n",
      "step 189000 loss 2.4038913249969482\n",
      "step 190000 loss 2.5846645832061768\n",
      "step 191000 loss 2.4570975303649902\n",
      "step 192000 loss 2.545604944229126\n",
      "step 193000 loss 2.5850930213928223\n",
      "step 194000 loss 2.522932767868042\n",
      "step 195000 loss 2.419128656387329\n",
      "step 196000 loss 2.623173236846924\n",
      "step 197000 loss 2.287858724594116\n",
      "step 198000 loss 2.3106608390808105\n",
      "step 199000 loss 2.1522507667541504\n"
     ]
    }
   ],
   "source": [
    "model = BigramLanguageModel()\n",
    "learning_rate = 0.01\n",
    "optimizer = torch.optim.AdamW(model.parameters(), lr=learning_rate)\n",
    "losses = []\n",
    "\n",
    "for step in range(200000):\n",
    "    xbatch, ybatch = get_batch('train')\n",
    "    loss, _ = model(xbatch, targets=ybatch)\n",
    "\n",
    "    optimizer.zero_grad()\n",
    "    loss.backward()\n",
    "    losses.append(loss.item())\n",
    "    optimizer.step()\n",
    "\n",
    "    if step % 1000 == 0:\n",
    "        print(f'step {step} loss {loss.item()}')"
   ]
  },
  {
   "cell_type": "code",
   "execution_count": 8,
   "metadata": {},
   "outputs": [
    {
     "data": {
      "text/plain": [
       "[<matplotlib.lines.Line2D at 0x167c9fed0>]"
      ]
     },
     "execution_count": 8,
     "metadata": {},
     "output_type": "execute_result"
    },
    {
     "data": {
      "image/png": "[encoded data removed]",
      "text/plain": [
       "<Figure size 640x480 with 1 Axes>"
      ]
     },
     "metadata": {},
     "output_type": "display_data"
    }
   ],
   "source": [
    "plt.plot(losses)"
   ]
  },
  {
   "cell_type": "code",
   "execution_count": 9,
   "metadata": {},
   "outputs": [],
   "source": [
    "eval_iters = 200\n",
    "\n",
    "@torch.no_grad()\n",
    "def estimate_loss():\n",
    "    out = {}\n",
    "    model.eval()\n",
    "    for split in ['train', 'val']:\n",
    "        losses = torch.zeros(eval_iters)\n",
    "        for k in range(eval_iters):\n",
    "            X, Y = get_batch(split)\n",
    "            loss, _ = model(X, Y)\n",
    "            losses[k] = loss.item()\n",
    "        out[split] = losses.mean()\n",
    "    model.train()\n",
    "    return out"
   ]
  },
  {
   "cell_type": "code",
   "execution_count": 10,
   "metadata": {},
   "outputs": [
    {
     "data": {
      "text/plain": [
       "{'train': tensor(2.4613), 'val': tensor(2.5091)}"
      ]
     },
     "execution_count": 10,
     "metadata": {},
     "output_type": "execute_result"
    }
   ],
   "source": [
    "estimate_loss()"
   ]
  },
  {
   "cell_type": "code",
   "execution_count": 11,
   "metadata": {},
   "outputs": [
    {
     "name": "stdout",
     "output_type": "stream",
     "text": [
      "\n",
      "LUDeril f d tt;\n",
      "\n",
      "LOUShineansth wee gherpiman Of bso hench t ticous.\n",
      "MA LLoul jutadd set touis s, ou\n"
     ]
    }
   ],
   "source": [
    "print(model.generate(100))"
   ]
  },
  {
   "cell_type": "code",
   "execution_count": null,
   "metadata": {},
   "outputs": [],
   "source": []
  }
 ],
 "metadata": {
  "kernelspec": {
   "display_name": "ml",
   "language": "python",
   "name": "python3"
  },
  "language_info": {
   "codemirror_mode": {
    "name": "ipython",
    "version": 3
   },
   "file_extension": ".py",
   "mimetype": "text/x-python",
   "name": "python",
   "nbconvert_exporter": "python",
   "pygments_lexer": "ipython3",
   "version": "3.11.1"
  },
  "orig_nbformat": 4
 },
 "nbformat": 4,
 "nbformat_minor": 2
}
