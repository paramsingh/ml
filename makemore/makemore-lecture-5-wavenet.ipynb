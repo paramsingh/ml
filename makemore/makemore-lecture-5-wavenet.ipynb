{
 "cells": [
  {
   "cell_type": "code",
   "execution_count": 163,
   "metadata": {},
   "outputs": [],
   "source": [
    "import torch\n",
    "import matplotlib.pyplot as plt\n",
    "import torch.nn.functional as F\n",
    "%matplotlib inline"
   ]
  },
  {
   "cell_type": "code",
   "execution_count": 164,
   "metadata": {},
   "outputs": [
    {
     "name": "stdout",
     "output_type": "stream",
     "text": [
      "32033\n",
      "15\n",
      "['emma', 'olivia', 'ava', 'isabella', 'sophia', 'charlotte', 'mia', 'amelia']\n"
     ]
    }
   ],
   "source": [
    "words = open('names.txt', 'r').read().splitlines()\n",
    "print(len(words))\n",
    "print(max(len(w) for w in words))\n",
    "print(words[:8])"
   ]
  },
  {
   "cell_type": "code",
   "execution_count": 165,
   "metadata": {},
   "outputs": [
    {
     "name": "stdout",
     "output_type": "stream",
     "text": [
      "{1: 'a', 2: 'b', 3: 'c', 4: 'd', 5: 'e', 6: 'f', 7: 'g', 8: 'h', 9: 'i', 10: 'j', 11: 'k', 12: 'l', 13: 'm', 14: 'n', 15: 'o', 16: 'p', 17: 'q', 18: 'r', 19: 's', 20: 't', 21: 'u', 22: 'v', 23: 'w', 24: 'x', 25: 'y', 26: 'z', 0: '.'}\n",
      "27\n"
     ]
    }
   ],
   "source": [
    "# build the vocabulary of characters and mappings to/from integers\n",
    "chars = sorted(list(set(''.join(words))))\n",
    "stoi = {s:i+1 for i,s in enumerate(chars)}\n",
    "stoi['.'] = 0\n",
    "itos = {i:s for s,i in stoi.items()}\n",
    "vocab_size = len(itos)\n",
    "print(itos)\n",
    "print(vocab_size)"
   ]
  },
  {
   "cell_type": "code",
   "execution_count": 166,
   "metadata": {},
   "outputs": [
    {
     "name": "stdout",
     "output_type": "stream",
     "text": [
      "torch.Size([182625, 3]) torch.Size([182625])\n",
      "torch.Size([22655, 3]) torch.Size([22655])\n",
      "torch.Size([22866, 3]) torch.Size([22866])\n"
     ]
    }
   ],
   "source": [
    "# build the dataset\n",
    "BLOCK_SIZE = 3 # context length: how many characters do we take to predict the next one?\n",
    "ALPHABET_SIZE = 27\n",
    "def build_dataset(words):\n",
    "  X, Y = [], []\n",
    "\n",
    "  for w in words:\n",
    "    context = [0] * BLOCK_SIZE\n",
    "    for ch in w + '.':\n",
    "      ix = stoi[ch]\n",
    "      X.append(context)\n",
    "      Y.append(ix)\n",
    "      context = context[1:] + [ix] # crop and append\n",
    "\n",
    "  X = torch.tensor(X)\n",
    "  Y = torch.tensor(Y)\n",
    "  print(X.shape, Y.shape)\n",
    "  return X, Y\n",
    "\n",
    "import random\n",
    "random.seed(42)\n",
    "random.shuffle(words)\n",
    "n1 = int(0.8*len(words))\n",
    "n2 = int(0.9*len(words))\n",
    "\n",
    "Xtr,  Ytr  = build_dataset(words[:n1])     # 80%\n",
    "Xdev, Ydev = build_dataset(words[n1:n2])   # 10%\n",
    "Xte,  Yte  = build_dataset(words[n2:])     # 10%"
   ]
  },
  {
   "cell_type": "code",
   "execution_count": 167,
   "metadata": {},
   "outputs": [],
   "source": [
    "g = torch.Generator().manual_seed(2147483647) # for reproducibility\n",
    "EMBEDDING_SIZE = 10 # the dimensionality of the character embedding vectors\n",
    "HIDDEN_SIZE = 64 # the number of neurons in the hidden layer of the MLP"
   ]
  },
  {
   "cell_type": "code",
   "execution_count": 168,
   "metadata": {},
   "outputs": [],
   "source": [
    "class Embedding:\n",
    "    def __init__(self, n, size):\n",
    "        self.embedding_table = torch.randn((n, size), generator=g)\n",
    "    \n",
    "    def __call__(self, x):\n",
    "        self.out = self.embedding_table[x]\n",
    "        return self.out\n",
    "    \n",
    "    def parameters(self):\n",
    "        return [self.embedding_table]"
   ]
  },
  {
   "cell_type": "code",
   "execution_count": 169,
   "metadata": {},
   "outputs": [],
   "source": [
    "class Flatten:\n",
    "    def __init__(self, n):\n",
    "        self.n = n\n",
    "\n",
    "    def __call__(self, x):\n",
    "        self.out = x.view(-1, self.n)\n",
    "        return self.out\n",
    "    \n",
    "    def parameters(self):\n",
    "        return []"
   ]
  },
  {
   "cell_type": "code",
   "execution_count": 170,
   "metadata": {},
   "outputs": [],
   "source": [
    "class Linear:\n",
    "    def __init__(self, n_input, n_output, bias=True):\n",
    "        self.W = torch.randn((n_input, n_output), generator=g) * (5/3) / (n_input ** 0.5)\n",
    "        self.b = torch.randn(n_output, generator=g) if bias else None\n",
    "    \n",
    "    def __call__(self, x):\n",
    "        self.out = x @ self.W\n",
    "        if self.b is not None:\n",
    "            self.out += self.b\n",
    "        return self.out\n",
    "\n",
    "    def parameters(self):\n",
    "        params = [self.W]\n",
    "        if self.b is not None:\n",
    "            params.append(self.b)\n",
    "        return params"
   ]
  },
  {
   "cell_type": "code",
   "execution_count": 171,
   "metadata": {},
   "outputs": [],
   "source": [
    "class BatchNorm1D:\n",
    "    def __init__(self, n_hidden):\n",
    "        self.gain = torch.ones((1, n_hidden))\n",
    "        self.bias = torch.zeros((1, n_hidden))\n",
    "        self.running_mean = torch.zeros((1, n_hidden))\n",
    "        self.running_stddev = torch.ones((1, n_hidden))\n",
    "        self.training = True\n",
    "\n",
    "    def __call__(self, x: torch.Tensor):\n",
    "        if self.training:\n",
    "            mean = x.mean(dim=0, keepdim=True)\n",
    "            std = x.std(dim=0, keepdim=True)\n",
    "        else:\n",
    "            mean = self.running_mean\n",
    "            std = self.running_stddev\n",
    "\n",
    "        self.out = self.gain * (x - mean) / std + self.bias\n",
    "\n",
    "        if self.training:\n",
    "            self.running_mean = self.running_mean * 0.9 + mean * 0.1\n",
    "            self.running_stddev = self.running_stddev * 0.9 + std * 0.1\n",
    "        return self.out\n",
    "\n",
    "    def parameters(self):\n",
    "        return [self.gain, self.bias]\n"
   ]
  },
  {
   "cell_type": "code",
   "execution_count": 172,
   "metadata": {},
   "outputs": [],
   "source": [
    "class Tanh: \n",
    "    def __call__(self, x: torch.Tensor):\n",
    "        self.out = x.tanh()\n",
    "        return self.out\n",
    "    \n",
    "    def parameters(self):\n",
    "        return []"
   ]
  },
  {
   "cell_type": "code",
   "execution_count": 173,
   "metadata": {},
   "outputs": [],
   "source": [
    "class Sequential:\n",
    "    def __init__(self, layers):\n",
    "        self.layers = layers\n",
    "\n",
    "    def __call__(self, x):\n",
    "        for layer in self.layers:\n",
    "            x = layer(x)\n",
    "\n",
    "        self.out = x\n",
    "        return x\n",
    "\n",
    "    def parameters(self):\n",
    "        return [p for l in self.layers for p in l.parameters()]"
   ]
  },
  {
   "cell_type": "code",
   "execution_count": 174,
   "metadata": {},
   "outputs": [],
   "source": [
    "EMBEDDING_SIZE = 20\n",
    "model = Sequential([\n",
    "    Embedding(ALPHABET_SIZE, EMBEDDING_SIZE), Flatten(BLOCK_SIZE * EMBEDDING_SIZE),\n",
    "    Linear(BLOCK_SIZE*EMBEDDING_SIZE, HIDDEN_SIZE, bias=False), BatchNorm1D(HIDDEN_SIZE), Tanh(),\n",
    "    Linear(HIDDEN_SIZE, ALPHABET_SIZE), \n",
    "])\n",
    "for param in model.parameters():\n",
    "    param.requires_grad = True"
   ]
  },
  {
   "cell_type": "code",
   "execution_count": 175,
   "metadata": {},
   "outputs": [],
   "source": [
    "def step(X, Y, step_count):\n",
    "    batch_size = 32\n",
    "    idxs = torch.randint(0, X.shape[0], (batch_size,))\n",
    "    X_batch = X[idxs]\n",
    "    Y_batch = Y[idxs]\n",
    "\n",
    "    out = model(X_batch)\n",
    "    loss = F.cross_entropy(out, Y_batch)\n",
    "\n",
    "    for param in model.parameters():\n",
    "        param.grad = None\n",
    "\n",
    "    loss.backward()\n",
    "\n",
    "    learning_rate = 0.1 if step_count < 100_000 else 0.01\n",
    "    for param in model.parameters():\n",
    "        param.data += -learning_rate * param.grad\n",
    "    \n",
    "    return loss.item()"
   ]
  },
  {
   "cell_type": "code",
   "execution_count": 176,
   "metadata": {},
   "outputs": [],
   "source": [
    "stepi = []\n",
    "lossi = []"
   ]
  },
  {
   "cell_type": "code",
   "execution_count": 177,
   "metadata": {},
   "outputs": [
    {
     "name": "stdout",
     "output_type": "stream",
     "text": [
      "step 100, loss 2.927650\n",
      "step 200, loss 2.526307\n",
      "step 300, loss 2.205328\n",
      "step 400, loss 2.535862\n",
      "step 500, loss 2.642743\n",
      "step 600, loss 2.302850\n",
      "step 700, loss 2.380329\n",
      "step 800, loss 2.868746\n",
      "step 900, loss 2.110101\n",
      "step 1000, loss 2.340232\n",
      "step 1100, loss 2.565303\n",
      "step 1200, loss 2.524686\n",
      "step 1300, loss 2.095640\n",
      "step 1400, loss 2.068536\n",
      "step 1500, loss 2.409040\n",
      "step 1600, loss 2.411297\n",
      "step 1700, loss 2.302690\n",
      "step 1800, loss 2.255939\n",
      "step 1900, loss 2.550008\n",
      "step 2000, loss 2.214543\n",
      "step 2100, loss 2.339599\n",
      "step 2200, loss 2.052906\n",
      "step 2300, loss 2.285081\n",
      "step 2400, loss 2.332678\n",
      "step 2500, loss 2.750273\n",
      "step 2600, loss 2.268506\n",
      "step 2700, loss 2.235622\n",
      "step 2800, loss 2.055779\n",
      "step 2900, loss 2.286591\n",
      "step 3000, loss 2.062268\n",
      "step 3100, loss 2.241537\n",
      "step 3200, loss 2.528629\n",
      "step 3300, loss 2.164155\n",
      "step 3400, loss 2.259699\n",
      "step 3500, loss 2.306625\n",
      "step 3600, loss 1.818144\n",
      "step 3700, loss 2.295273\n",
      "step 3800, loss 2.719460\n",
      "step 3900, loss 1.949273\n",
      "step 4000, loss 2.650078\n",
      "step 4100, loss 2.197519\n",
      "step 4200, loss 2.715981\n",
      "step 4300, loss 2.070291\n",
      "step 4400, loss 2.143955\n",
      "step 4500, loss 2.006040\n",
      "step 4600, loss 2.439193\n",
      "step 4700, loss 2.618663\n",
      "step 4800, loss 2.372354\n",
      "step 4900, loss 2.422822\n",
      "step 5000, loss 2.287052\n",
      "step 5100, loss 2.258065\n",
      "step 5200, loss 2.609501\n",
      "step 5300, loss 1.979329\n",
      "step 5400, loss 2.595551\n",
      "step 5500, loss 2.615753\n",
      "step 5600, loss 2.181057\n",
      "step 5700, loss 2.313058\n",
      "step 5800, loss 2.225616\n",
      "step 5900, loss 2.438952\n",
      "step 6000, loss 2.387311\n",
      "step 6100, loss 2.289136\n",
      "step 6200, loss 2.147314\n",
      "step 6300, loss 2.175768\n",
      "step 6400, loss 2.467724\n",
      "step 6500, loss 2.059278\n",
      "step 6600, loss 2.164956\n",
      "step 6700, loss 1.790931\n",
      "step 6800, loss 2.495055\n",
      "step 6900, loss 2.068513\n",
      "step 7000, loss 2.142651\n",
      "step 7100, loss 2.229369\n",
      "step 7200, loss 2.263558\n",
      "step 7300, loss 2.549160\n",
      "step 7400, loss 2.471155\n",
      "step 7500, loss 2.582247\n",
      "step 7600, loss 2.454200\n",
      "step 7700, loss 2.310459\n",
      "step 7800, loss 2.274770\n",
      "step 7900, loss 2.112654\n",
      "step 8000, loss 2.225075\n",
      "step 8100, loss 2.227079\n",
      "step 8200, loss 2.416323\n",
      "step 8300, loss 2.271516\n",
      "step 8400, loss 2.377362\n",
      "step 8500, loss 2.038458\n",
      "step 8600, loss 2.421630\n",
      "step 8700, loss 2.197308\n",
      "step 8800, loss 2.478791\n",
      "step 8900, loss 2.548967\n",
      "step 9000, loss 2.265551\n",
      "step 9100, loss 2.038971\n",
      "step 9200, loss 2.200406\n",
      "step 9300, loss 2.247586\n",
      "step 9400, loss 2.500766\n",
      "step 9500, loss 2.261275\n",
      "step 9600, loss 1.921445\n",
      "step 9700, loss 2.258522\n",
      "step 9800, loss 2.394127\n",
      "step 9900, loss 2.136700\n",
      "step 10000, loss 2.263307\n"
     ]
    }
   ],
   "source": [
    "for i in range(10_000):\n",
    "    stepi.append(len(stepi) + 1)\n",
    "    loss = step(Xtr, Ytr, stepi[-1])\n",
    "    if stepi[-1] % 100 == 0:\n",
    "        print(\"step %d, loss %f\" % (stepi[-1], loss))\n",
    "    lossi.append(loss)"
   ]
  },
  {
   "cell_type": "code",
   "execution_count": 158,
   "metadata": {},
   "outputs": [
    {
     "data": {
      "text/plain": [
       "[<matplotlib.lines.Line2D at 0x2a4714e50>]"
      ]
     },
     "execution_count": 158,
     "metadata": {},
     "output_type": "execute_result"
    },
    {
     "data": {
      "image/png": "[encoded data removed]",
      "text/plain": [
       "<Figure size 640x480 with 1 Axes>"
      ]
     },
     "metadata": {},
     "output_type": "display_data"
    }
   ],
   "source": [
    "plt.plot(stepi, lossi)"
   ]
  },
  {
   "cell_type": "code",
   "execution_count": 159,
   "metadata": {},
   "outputs": [],
   "source": [
    "# turn training off for BatchNorm layers before inference / loss calculation\n",
    "for layer in model.layers:\n",
    "    if isinstance(layer, BatchNorm1D):\n",
    "        layer.training = False"
   ]
  },
  {
   "cell_type": "code",
   "execution_count": 160,
   "metadata": {},
   "outputs": [],
   "source": [
    "def calculate_loss(X, Y):\n",
    "    with torch.no_grad():\n",
    "        out = model(X)\n",
    "        loss = F.cross_entropy(out, Y)\n",
    "        print(loss.item())        "
   ]
  },
  {
   "cell_type": "code",
   "execution_count": 161,
   "metadata": {},
   "outputs": [
    {
     "name": "stdout",
     "output_type": "stream",
     "text": [
      "2.236313581466675\n",
      "2.24267840385437\n",
      "2.2439305782318115\n"
     ]
    }
   ],
   "source": [
    "calculate_loss(Xtr, Ytr)\n",
    "calculate_loss(Xdev, Ydev)\n",
    "calculate_loss(Xte, Yte)"
   ]
  },
  {
   "cell_type": "code",
   "execution_count": 178,
   "metadata": {},
   "outputs": [
    {
     "name": "stdout",
     "output_type": "stream",
     "text": [
      "Embedding torch.Size([32, 3, 20])\n",
      "Flatten torch.Size([32, 60])\n",
      "Linear torch.Size([32, 64])\n",
      "BatchNorm1D torch.Size([32, 64])\n",
      "Tanh torch.Size([32, 64])\n",
      "Linear torch.Size([32, 27])\n"
     ]
    }
   ],
   "source": [
    "for layer in model.layers:\n",
    "    print(layer.__class__.__name__, layer.out.shape)"
   ]
  },
  {
   "cell_type": "code",
   "execution_count": null,
   "metadata": {},
   "outputs": [],
   "source": []
  }
 ],
 "metadata": {
  "kernelspec": {
   "display_name": "ml",
   "language": "python",
   "name": "python3"
  },
  "language_info": {
   "codemirror_mode": {
    "name": "ipython",
    "version": 3
   },
   "file_extension": ".py",
   "mimetype": "text/x-python",
   "name": "python",
   "nbconvert_exporter": "python",
   "pygments_lexer": "ipython3",
   "version": "3.11.1"
  },
  "orig_nbformat": 4
 },
 "nbformat": 4,
 "nbformat_minor": 2
}
