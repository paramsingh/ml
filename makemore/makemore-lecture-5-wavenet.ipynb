{
 "cells": [
  {
   "cell_type": "code",
   "execution_count": 47,
   "metadata": {},
   "outputs": [],
   "source": [
    "import torch\n",
    "import matplotlib.pyplot as plt\n",
    "import torch.nn.functional as F\n",
    "%matplotlib inline\n",
    "from typing import List"
   ]
  },
  {
   "cell_type": "code",
   "execution_count": 48,
   "metadata": {},
   "outputs": [
    {
     "name": "stdout",
     "output_type": "stream",
     "text": [
      "32033\n",
      "15\n",
      "['emma', 'olivia', 'ava', 'isabella', 'sophia', 'charlotte', 'mia', 'amelia']\n"
     ]
    }
   ],
   "source": [
    "words = open('names.txt', 'r').read().splitlines()\n",
    "print(len(words))\n",
    "print(max(len(w) for w in words))\n",
    "print(words[:8])"
   ]
  },
  {
   "cell_type": "code",
   "execution_count": 49,
   "metadata": {},
   "outputs": [
    {
     "name": "stdout",
     "output_type": "stream",
     "text": [
      "{1: 'a', 2: 'b', 3: 'c', 4: 'd', 5: 'e', 6: 'f', 7: 'g', 8: 'h', 9: 'i', 10: 'j', 11: 'k', 12: 'l', 13: 'm', 14: 'n', 15: 'o', 16: 'p', 17: 'q', 18: 'r', 19: 's', 20: 't', 21: 'u', 22: 'v', 23: 'w', 24: 'x', 25: 'y', 26: 'z', 0: '.'}\n",
      "27\n"
     ]
    }
   ],
   "source": [
    "# build the vocabulary of characters and mappings to/from integers\n",
    "chars = sorted(list(set(''.join(words))))\n",
    "stoi = {s:i+1 for i,s in enumerate(chars)}\n",
    "stoi['.'] = 0\n",
    "itos = {i:s for s,i in stoi.items()}\n",
    "vocab_size = len(itos)\n",
    "print(itos)\n",
    "print(vocab_size)"
   ]
  },
  {
   "cell_type": "code",
   "execution_count": 50,
   "metadata": {},
   "outputs": [
    {
     "name": "stdout",
     "output_type": "stream",
     "text": [
      "torch.Size([182625, 8]) torch.Size([182625])\n",
      "torch.Size([22655, 8]) torch.Size([22655])\n",
      "torch.Size([22866, 8]) torch.Size([22866])\n"
     ]
    }
   ],
   "source": [
    "# build the dataset\n",
    "BLOCK_SIZE = 8 # context length: how many characters do we take to predict the next one?\n",
    "ALPHABET_SIZE = 27\n",
    "def build_dataset(words):\n",
    "  X, Y = [], []\n",
    "\n",
    "  for w in words:\n",
    "    context = [0] * BLOCK_SIZE\n",
    "    for ch in w + '.':\n",
    "      ix = stoi[ch]\n",
    "      X.append(context)\n",
    "      Y.append(ix)\n",
    "      context = context[1:] + [ix] # crop and append\n",
    "\n",
    "  X = torch.tensor(X)\n",
    "  Y = torch.tensor(Y)\n",
    "  print(X.shape, Y.shape)\n",
    "  return X, Y\n",
    "\n",
    "import random\n",
    "random.seed(42)\n",
    "random.shuffle(words)\n",
    "n1 = int(0.8*len(words))\n",
    "n2 = int(0.9*len(words))\n",
    "\n",
    "Xtr,  Ytr  = build_dataset(words[:n1])     # 80%\n",
    "Xdev, Ydev = build_dataset(words[n1:n2])   # 10%\n",
    "Xte,  Yte  = build_dataset(words[n2:])     # 10%"
   ]
  },
  {
   "cell_type": "code",
   "execution_count": 51,
   "metadata": {},
   "outputs": [],
   "source": [
    "g = torch.Generator().manual_seed(2147483647) # for reproducibility\n",
    "EMBEDDING_SIZE = 10 # the dimensionality of the character embedding vectors\n",
    "HIDDEN_SIZE = 68 # the number of neurons in the hidden layer of the MLP"
   ]
  },
  {
   "cell_type": "code",
   "execution_count": 52,
   "metadata": {},
   "outputs": [],
   "source": [
    "class Embedding:\n",
    "    def __init__(self, n, size):\n",
    "        self.embedding_table = torch.randn((n, size), generator=g)\n",
    "    \n",
    "    def __call__(self, x):\n",
    "        self.out = self.embedding_table[x]\n",
    "        return self.out\n",
    "    \n",
    "    def parameters(self):\n",
    "        return [self.embedding_table]"
   ]
  },
  {
   "cell_type": "code",
   "execution_count": 53,
   "metadata": {},
   "outputs": [],
   "source": [
    "class Flatten:\n",
    "    def __init__(self, n):\n",
    "        self.n = n\n",
    "\n",
    "    def __call__(self, x: torch.Tensor):\n",
    "        a, b, c = x.shape\n",
    "        self.out = x.view(a, b // self.n, c * self.n)\n",
    "        if self.out.shape[1] == 1:\n",
    "            self.out = self.out.squeeze(1)\n",
    "        return self.out\n",
    "    \n",
    "    def parameters(self):\n",
    "        return []"
   ]
  },
  {
   "cell_type": "code",
   "execution_count": 54,
   "metadata": {},
   "outputs": [],
   "source": [
    "class Linear:\n",
    "    def __init__(self, n_input, n_output, bias=True):\n",
    "        self.W = torch.randn((n_input, n_output), generator=g) * (5/3) / (n_input ** 0.5)\n",
    "        self.b = torch.randn(n_output, generator=g) if bias else None\n",
    "    \n",
    "    def __call__(self, x):\n",
    "        self.out = x @ self.W\n",
    "        if self.b is not None:\n",
    "            self.out += self.b\n",
    "        return self.out\n",
    "\n",
    "    def parameters(self) -> List[torch.Tensor]:\n",
    "        params = [self.W]\n",
    "        if self.b is not None:\n",
    "            params.append(self.b)\n",
    "        return params"
   ]
  },
  {
   "cell_type": "code",
   "execution_count": 55,
   "metadata": {},
   "outputs": [],
   "source": [
    "class BatchNorm1D:\n",
    "    def __init__(self, n):\n",
    "        self.gain = torch.ones((1, n))\n",
    "        self.bias = torch.zeros((1, n))\n",
    "        self.running_mean = torch.zeros((1, n))\n",
    "        self.running_stddev = torch.ones((1, n))\n",
    "        self.training = True\n",
    "\n",
    "    def __call__(self, x: torch.Tensor):\n",
    "        if self.training:\n",
    "            if x.ndim == 2:\n",
    "                dim = 0\n",
    "            elif x.ndim == 3:\n",
    "                dim = (0, 1)\n",
    "            mean = x.mean(dim, keepdim=True)\n",
    "            std = x.std(dim, keepdim=True)\n",
    "        else:\n",
    "            mean = self.running_mean\n",
    "            std = self.running_stddev\n",
    "\n",
    "        self.out = self.gain * (x - mean) / std + self.bias\n",
    "        if self.training:\n",
    "            with torch.no_grad():\n",
    "                self.running_mean = self.running_mean * 0.9 + mean * 0.1\n",
    "                self.running_stddev = self.running_stddev * 0.9 + std * 0.1\n",
    "        return self.out\n",
    "\n",
    "    def parameters(self) -> List[torch.Tensor]:\n",
    "        return [self.gain, self.bias]\n"
   ]
  },
  {
   "cell_type": "code",
   "execution_count": 56,
   "metadata": {},
   "outputs": [],
   "source": [
    "class Tanh: \n",
    "    def __call__(self, x: torch.Tensor):\n",
    "        self.out = x.tanh()\n",
    "        return self.out\n",
    "    \n",
    "    def parameters(self):\n",
    "        return []"
   ]
  },
  {
   "cell_type": "code",
   "execution_count": 57,
   "metadata": {},
   "outputs": [],
   "source": [
    "class Sequential:\n",
    "    def __init__(self, layers):\n",
    "        self.layers = layers\n",
    "\n",
    "    def __call__(self, x: torch.Tensor):\n",
    "        for i, layer in enumerate(self.layers):\n",
    "            x = layer(x)\n",
    "            if torch.isnan(x).any():\n",
    "                print(f\"after layer {i}\", layer.__class__.__name__, x)\n",
    "\n",
    "        self.out = x\n",
    "        return self.out\n",
    "\n",
    "    def parameters(self) -> List[torch.Tensor]:\n",
    "        return [p for l in self.layers for p in l.parameters()]"
   ]
  },
  {
   "cell_type": "code",
   "execution_count": 58,
   "metadata": {},
   "outputs": [
    {
     "name": "stdout",
     "output_type": "stream",
     "text": [
      "25983\n"
     ]
    }
   ],
   "source": [
    "EMBEDDING_SIZE = 32\n",
    "model = Sequential([\n",
    "    Embedding(ALPHABET_SIZE, EMBEDDING_SIZE), Flatten(2),\n",
    "    Linear(2 * EMBEDDING_SIZE, HIDDEN_SIZE, bias=False), BatchNorm1D(HIDDEN_SIZE), Tanh(), Flatten(2),\n",
    "    Linear(2 * HIDDEN_SIZE, HIDDEN_SIZE, bias=False), BatchNorm1D(HIDDEN_SIZE), Tanh(), Flatten(2),\n",
    "    Linear(2 * HIDDEN_SIZE, HIDDEN_SIZE, bias=False), BatchNorm1D(HIDDEN_SIZE), Tanh(),\n",
    "    Linear(HIDDEN_SIZE, ALPHABET_SIZE), \n",
    "])\n",
    "print(sum(p.nelement() for p in model.parameters()))\n",
    "for param in model.parameters():\n",
    "    param.requires_grad = True"
   ]
  },
  {
   "cell_type": "code",
   "execution_count": 59,
   "metadata": {},
   "outputs": [],
   "source": [
    "def step(X, Y, step_count):\n",
    "\n",
    "    batch_size = 32\n",
    "    idxs = torch.randint(0, X.shape[0], (batch_size,))\n",
    "    X_batch = X[idxs]\n",
    "    Y_batch = Y[idxs]\n",
    "\n",
    "    out = model(X_batch)\n",
    "    loss = F.cross_entropy(out, Y_batch)\n",
    "\n",
    "    for param in model.parameters():\n",
    "        param.grad = None\n",
    "\n",
    "    loss.backward()\n",
    "\n",
    "    learning_rate = 0.1 if step_count < 150_000 else 0.01\n",
    "    for param in model.parameters():\n",
    "        param.data += -learning_rate * param.grad\n",
    "    \n",
    "    return loss"
   ]
  },
  {
   "cell_type": "code",
   "execution_count": 60,
   "metadata": {},
   "outputs": [],
   "source": [
    "stepi = []\n",
    "lossi = []"
   ]
  },
  {
   "cell_type": "code",
   "execution_count": 61,
   "metadata": {},
   "outputs": [
    {
     "name": "stdout",
     "output_type": "stream",
     "text": [
      "step 1000, loss 2.603112\n",
      "step 2000, loss 2.506932\n",
      "step 3000, loss 2.171036\n",
      "step 4000, loss 2.266336\n",
      "step 5000, loss 2.086301\n",
      "step 6000, loss 2.319451\n",
      "step 7000, loss 2.658152\n",
      "step 8000, loss 1.928839\n",
      "step 9000, loss 2.276294\n",
      "step 10000, loss 1.976432\n",
      "step 11000, loss 2.158509\n",
      "step 12000, loss 2.117121\n",
      "step 13000, loss 2.265384\n",
      "step 14000, loss 2.402553\n",
      "step 15000, loss 2.450399\n",
      "step 16000, loss 2.043481\n",
      "step 17000, loss 1.939764\n",
      "step 18000, loss 1.993284\n",
      "step 19000, loss 1.753098\n",
      "step 20000, loss 1.628404\n",
      "step 21000, loss 1.957647\n",
      "step 22000, loss 2.248777\n",
      "step 23000, loss 1.955052\n",
      "step 24000, loss 2.194534\n",
      "step 25000, loss 1.818794\n",
      "step 26000, loss 2.209824\n",
      "step 27000, loss 1.705252\n",
      "step 28000, loss 2.500230\n",
      "step 29000, loss 1.785326\n",
      "step 30000, loss 2.102908\n",
      "step 31000, loss 2.220608\n",
      "step 32000, loss 1.987384\n",
      "step 33000, loss 2.133028\n",
      "step 34000, loss 2.031842\n",
      "step 35000, loss 2.227248\n",
      "step 36000, loss 2.313585\n",
      "step 37000, loss 1.814889\n",
      "step 38000, loss 1.954242\n",
      "step 39000, loss 2.018764\n",
      "step 40000, loss 2.037968\n",
      "step 41000, loss 2.170733\n",
      "step 42000, loss 1.913487\n",
      "step 43000, loss 2.226830\n",
      "step 44000, loss 1.462581\n",
      "step 45000, loss 2.006532\n",
      "step 46000, loss 1.961258\n",
      "step 47000, loss 2.677216\n",
      "step 48000, loss 2.133600\n",
      "step 49000, loss 1.823690\n",
      "step 50000, loss 2.340769\n",
      "step 51000, loss 2.180451\n",
      "step 52000, loss 2.086980\n",
      "step 53000, loss 2.175747\n",
      "step 54000, loss 1.901802\n",
      "step 55000, loss 2.110604\n",
      "step 56000, loss 2.307370\n",
      "step 57000, loss 1.685597\n",
      "step 58000, loss 1.612665\n",
      "step 59000, loss 2.357110\n",
      "step 60000, loss 2.056568\n",
      "step 61000, loss 2.137409\n",
      "step 62000, loss 1.841876\n",
      "step 63000, loss 2.126444\n",
      "step 64000, loss 1.762071\n",
      "step 65000, loss 2.083454\n",
      "step 66000, loss 2.176739\n",
      "step 67000, loss 2.120366\n",
      "step 68000, loss 1.664512\n",
      "step 69000, loss 2.249035\n",
      "step 70000, loss 2.015069\n",
      "step 71000, loss 1.787671\n",
      "step 72000, loss 1.932133\n",
      "step 73000, loss 1.551036\n",
      "step 74000, loss 1.896165\n",
      "step 75000, loss 1.893926\n",
      "step 76000, loss 1.856052\n",
      "step 77000, loss 1.857535\n",
      "step 78000, loss 2.135727\n",
      "step 79000, loss 2.089133\n",
      "step 80000, loss 2.363128\n",
      "step 81000, loss 1.950412\n",
      "step 82000, loss 2.147731\n",
      "step 83000, loss 2.419989\n",
      "step 84000, loss 1.949639\n",
      "step 85000, loss 2.312946\n",
      "step 86000, loss 2.063313\n",
      "step 87000, loss 1.665447\n",
      "step 88000, loss 1.854213\n",
      "step 89000, loss 2.397929\n",
      "step 90000, loss 1.920792\n",
      "step 91000, loss 2.019408\n",
      "step 92000, loss 1.837803\n",
      "step 93000, loss 1.564885\n",
      "step 94000, loss 1.911420\n",
      "step 95000, loss 1.991227\n",
      "step 96000, loss 1.568349\n",
      "step 97000, loss 2.137459\n",
      "step 98000, loss 2.437746\n",
      "step 99000, loss 2.178870\n",
      "step 100000, loss 2.083112\n",
      "step 101000, loss 2.055041\n",
      "step 102000, loss 1.796701\n",
      "step 103000, loss 2.177710\n",
      "step 104000, loss 2.282274\n",
      "step 105000, loss 2.100121\n",
      "step 106000, loss 2.065177\n",
      "step 107000, loss 1.948448\n",
      "step 108000, loss 2.289670\n",
      "step 109000, loss 2.336631\n",
      "step 110000, loss 2.069999\n",
      "step 111000, loss 1.647347\n",
      "step 112000, loss 2.282768\n",
      "step 113000, loss 1.767822\n",
      "step 114000, loss 2.033486\n",
      "step 115000, loss 2.175134\n",
      "step 116000, loss 1.544964\n",
      "step 117000, loss 1.952341\n",
      "step 118000, loss 2.218551\n",
      "step 119000, loss 1.566521\n",
      "step 120000, loss 2.069947\n",
      "step 121000, loss 2.171728\n",
      "step 122000, loss 2.363890\n",
      "step 123000, loss 1.836825\n",
      "step 124000, loss 1.759500\n",
      "step 125000, loss 2.236939\n",
      "step 126000, loss 1.807857\n",
      "step 127000, loss 2.139035\n",
      "step 128000, loss 1.675652\n",
      "step 129000, loss 1.881359\n",
      "step 130000, loss 2.202540\n",
      "step 131000, loss 2.381872\n",
      "step 132000, loss 1.787665\n",
      "step 133000, loss 1.951054\n",
      "step 134000, loss 2.250529\n",
      "step 135000, loss 1.997511\n",
      "step 136000, loss 2.215412\n",
      "step 137000, loss 1.812260\n",
      "step 138000, loss 2.235960\n",
      "step 139000, loss 1.770280\n",
      "step 140000, loss 1.710000\n",
      "step 141000, loss 2.451347\n",
      "step 142000, loss 2.124505\n",
      "step 143000, loss 1.659886\n",
      "step 144000, loss 1.845937\n",
      "step 145000, loss 1.769950\n",
      "step 146000, loss 2.158041\n",
      "step 147000, loss 1.790691\n",
      "step 148000, loss 1.864965\n",
      "step 149000, loss 1.981078\n",
      "step 150000, loss 1.832521\n",
      "step 151000, loss 1.732434\n",
      "step 152000, loss 1.959957\n",
      "step 153000, loss 1.731585\n",
      "step 154000, loss 2.190060\n",
      "step 155000, loss 1.812962\n",
      "step 156000, loss 2.047024\n",
      "step 157000, loss 1.385460\n",
      "step 158000, loss 1.586661\n",
      "step 159000, loss 1.799679\n",
      "step 160000, loss 1.947460\n",
      "step 161000, loss 2.298326\n",
      "step 162000, loss 2.304466\n",
      "step 163000, loss 1.778172\n",
      "step 164000, loss 1.669016\n",
      "step 165000, loss 2.193489\n",
      "step 166000, loss 1.730223\n",
      "step 167000, loss 1.906558\n",
      "step 168000, loss 2.229838\n",
      "step 169000, loss 2.471763\n",
      "step 170000, loss 2.143982\n",
      "step 171000, loss 2.456155\n",
      "step 172000, loss 2.124823\n",
      "step 173000, loss 2.132701\n",
      "step 174000, loss 1.754867\n",
      "step 175000, loss 2.227595\n",
      "step 176000, loss 1.980029\n",
      "step 177000, loss 1.723927\n",
      "step 178000, loss 2.151579\n",
      "step 179000, loss 1.986986\n",
      "step 180000, loss 2.077116\n",
      "step 181000, loss 2.342836\n",
      "step 182000, loss 1.770760\n",
      "step 183000, loss 1.993878\n",
      "step 184000, loss 1.829865\n",
      "step 185000, loss 2.242784\n",
      "step 186000, loss 1.688569\n",
      "step 187000, loss 1.896438\n",
      "step 188000, loss 1.966110\n",
      "step 189000, loss 1.398940\n",
      "step 190000, loss 2.103103\n",
      "step 191000, loss 1.973229\n",
      "step 192000, loss 1.851289\n",
      "step 193000, loss 2.106862\n",
      "step 194000, loss 1.836734\n",
      "step 195000, loss 1.623039\n",
      "step 196000, loss 2.324733\n",
      "step 197000, loss 1.455995\n",
      "step 198000, loss 1.841696\n",
      "step 199000, loss 1.857042\n",
      "step 200000, loss 2.294118\n"
     ]
    }
   ],
   "source": [
    "for i in range(200_000):\n",
    "    stepi.append(len(stepi) + 1)\n",
    "    loss = step(Xtr, Ytr, stepi[-1])\n",
    "   \n",
    "    if stepi[-1] % 1000 == 0:\n",
    "        print(\"step %d, loss %f\" % (stepi[-1], loss.item()))\n",
    "    lossi.append(loss.item())"
   ]
  },
  {
   "cell_type": "code",
   "execution_count": 62,
   "metadata": {},
   "outputs": [
    {
     "data": {
      "text/plain": [
       "[<matplotlib.lines.Line2D at 0x11857a190>]"
      ]
     },
     "execution_count": 62,
     "metadata": {},
     "output_type": "execute_result"
    },
    {
     "data": {
      "image/png": "[encoded data removed]",
      "text/plain": [
       "<Figure size 640x480 with 1 Axes>"
      ]
     },
     "metadata": {},
     "output_type": "display_data"
    }
   ],
   "source": [
    "plt.plot(torch.tensor(lossi).view(-1, 500).mean(1))\n",
    "\n"
   ]
  },
  {
   "cell_type": "code",
   "execution_count": 63,
   "metadata": {},
   "outputs": [],
   "source": [
    "# turn training off for BatchNorm layers before inference / loss calculation\n",
    "for layer in model.layers:\n",
    "    if isinstance(layer, BatchNorm1D):\n",
    "        layer.training = False"
   ]
  },
  {
   "cell_type": "code",
   "execution_count": 64,
   "metadata": {},
   "outputs": [],
   "source": [
    "def calculate_loss(X: torch.Tensor, Y: torch.Tensor):\n",
    "    with torch.no_grad():\n",
    "        out = model(X)\n",
    "        loss = F.cross_entropy(out, Y)\n",
    "        print(loss.item())        "
   ]
  },
  {
   "cell_type": "code",
   "execution_count": 65,
   "metadata": {},
   "outputs": [
    {
     "name": "stdout",
     "output_type": "stream",
     "text": [
      "1.899675726890564\n",
      "2.01582932472229\n",
      "2.01283597946167\n"
     ]
    }
   ],
   "source": [
    "calculate_loss(Xtr, Ytr)\n",
    "calculate_loss(Xdev, Ydev)\n",
    "calculate_loss(Xte, Yte)"
   ]
  },
  {
   "cell_type": "code",
   "execution_count": 66,
   "metadata": {},
   "outputs": [
    {
     "name": "stdout",
     "output_type": "stream",
     "text": [
      "Embedding torch.Size([22866, 8, 32])\n",
      "Flatten torch.Size([22866, 4, 64])\n",
      "Linear torch.Size([22866, 4, 68])\n",
      "BatchNorm1D torch.Size([22866, 4, 68])\n",
      "Tanh torch.Size([22866, 4, 68])\n",
      "Flatten torch.Size([22866, 2, 136])\n",
      "Linear torch.Size([22866, 2, 68])\n",
      "BatchNorm1D torch.Size([22866, 2, 68])\n",
      "Tanh torch.Size([22866, 2, 68])\n",
      "Flatten torch.Size([22866, 136])\n",
      "Linear torch.Size([22866, 68])\n",
      "BatchNorm1D torch.Size([22866, 68])\n",
      "Tanh torch.Size([22866, 68])\n",
      "Linear torch.Size([22866, 27])\n"
     ]
    }
   ],
   "source": [
    "for layer in model.layers:\n",
    "    print(layer.__class__.__name__, layer.out.shape)"
   ]
  },
  {
   "cell_type": "code",
   "execution_count": null,
   "metadata": {},
   "outputs": [],
   "source": []
  }
 ],
 "metadata": {
  "kernelspec": {
   "display_name": "ml",
   "language": "python",
   "name": "python3"
  },
  "language_info": {
   "codemirror_mode": {
    "name": "ipython",
    "version": 3
   },
   "file_extension": ".py",
   "mimetype": "text/x-python",
   "name": "python",
   "nbconvert_exporter": "python",
   "pygments_lexer": "ipython3",
   "version": "3.11.1"
  },
  "orig_nbformat": 4
 },
 "nbformat": 4,
 "nbformat_minor": 2
}
