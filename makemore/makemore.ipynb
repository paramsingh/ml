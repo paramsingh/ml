{
 "cells": [
  {
   "cell_type": "code",
   "execution_count": 277,
   "metadata": {},
   "outputs": [],
   "source": [
    "import torch\n",
    "import matplotlib.pyplot as plt\n",
    "import torch.nn.functional as F\n",
    "%matplotlib inline"
   ]
  },
  {
   "cell_type": "code",
   "execution_count": 278,
   "metadata": {},
   "outputs": [],
   "source": [
    "with open('names.txt', 'r') as f:\n",
    "    words = f.read().splitlines()"
   ]
  },
  {
   "cell_type": "code",
   "execution_count": 279,
   "metadata": {},
   "outputs": [
    {
     "data": {
      "text/plain": [
       "32033"
      ]
     },
     "execution_count": 279,
     "metadata": {},
     "output_type": "execute_result"
    }
   ],
   "source": [
    "len(words)"
   ]
  },
  {
   "cell_type": "code",
   "execution_count": 280,
   "metadata": {},
   "outputs": [],
   "source": [
    "ALPHABET_SIZE = 27"
   ]
  },
  {
   "cell_type": "code",
   "execution_count": 281,
   "metadata": {},
   "outputs": [],
   "source": [
    "N = torch.ones((ALPHABET_SIZE, ALPHABET_SIZE, ALPHABET_SIZE), dtype=torch.int32)"
   ]
  },
  {
   "cell_type": "code",
   "execution_count": 282,
   "metadata": {},
   "outputs": [],
   "source": [
    "all_chars = sorted(list(set(''.join(words))))\n",
    "stoi = {c: i+1 for i, c in enumerate(all_chars)}\n",
    "stoi['.'] = 0\n",
    "itos = {i: c for c, i in stoi.items()}"
   ]
  },
  {
   "cell_type": "code",
   "execution_count": 283,
   "metadata": {},
   "outputs": [],
   "source": [
    "for word in words:\n",
    "    chars = '.' + '.' + word + '.'\n",
    "    for a, b, c in zip(chars, chars[1:], chars[2:]):\n",
    "        ix1 = stoi[a]\n",
    "        ix2 = stoi[b]\n",
    "        ix3 = stoi[c]\n",
    "        N[ix1, ix2, ix3] += 1"
   ]
  },
  {
   "cell_type": "code",
   "execution_count": 284,
   "metadata": {},
   "outputs": [
    {
     "data": {
      "text/plain": [
       "<matplotlib.image.AxesImage at 0x144b48d10>"
      ]
     },
     "execution_count": 284,
     "metadata": {},
     "output_type": "execute_result"
    },
    {
     "data": {
      "image/png": "[encoded data removed]",
      "text/plain": [
       "<Figure size 640x480 with 1 Axes>"
      ]
     },
     "metadata": {},
     "output_type": "display_data"
    }
   ],
   "source": [
    "plt.imshow(N[1])"
   ]
  },
  {
   "cell_type": "code",
   "execution_count": 285,
   "metadata": {},
   "outputs": [
    {
     "data": {
      "text/plain": [
       "torch.Size([27, 27, 27])"
      ]
     },
     "execution_count": 285,
     "metadata": {},
     "output_type": "execute_result"
    }
   ],
   "source": [
    "probs = N.float()\n",
    "probs /= probs.sum(dim=2, keepdim=True)\n",
    "probs.shape"
   ]
  },
  {
   "cell_type": "code",
   "execution_count": 286,
   "metadata": {},
   "outputs": [
    {
     "name": "stdout",
     "output_type": "stream",
     "text": [
      "$.dej\n",
      "$.ranniyon\n",
      "$.cain\n",
      "$.jaster\n",
      "$.coleregaptt\n",
      "$.tri\n",
      "$.qamicen\n",
      "$.uciah\n",
      "$.fe\n",
      "$.wa\n",
      "$.ganne\n",
      "$.jala\n",
      "$.zu\n",
      "$.vere\n",
      "$.haveavannaicklee\n",
      "$.qua\n",
      "$.mila\n",
      "$.el\n",
      "$.samay\n",
      "$.zericolully\n"
     ]
    }
   ],
   "source": [
    "g = torch.Generator().manual_seed(218321942)\n",
    "for _ in range(20):\n",
    "    a = 1\n",
    "    b = 0\n",
    "    word = ['$', '.'] \n",
    "    while True:\n",
    "        c = torch.multinomial(probs[a, b], 1, replacement=True, generator=g).item()\n",
    "        if c == 0:\n",
    "            break\n",
    "        word.append(itos[c])\n",
    "        a = b\n",
    "        b = c\n",
    "    print(''.join(word))"
   ]
  },
  {
   "cell_type": "code",
   "execution_count": 287,
   "metadata": {},
   "outputs": [
    {
     "name": "stdout",
     "output_type": "stream",
     "text": [
      "nll=tensor(462200.6875) \n",
      "nll/cnt=tensor(2.3568)\n"
     ]
    }
   ],
   "source": [
    "nll = 0.0\n",
    "cnt = 0\n",
    "for word in words:\n",
    "    word = '..' + word\n",
    "    for a, b, c in zip(word, word[1:], word[2:]):\n",
    "        idxa = stoi[a]\n",
    "        idxb = stoi[b]\n",
    "        idxc = stoi[c]\n",
    "        prob = probs[idxa, idxb, idxc]\n",
    "        nll += -torch.log(prob)\n",
    "        cnt += 1\n",
    "\n",
    "print(f\"{nll=} \")\n",
    "print(f\"{nll/cnt=}\")"
   ]
  },
  {
   "cell_type": "code",
   "execution_count": 288,
   "metadata": {},
   "outputs": [],
   "source": [
    "# let's prepare training data\n",
    "x1s = []\n",
    "x2s = []\n",
    "ys = []\n",
    "for word in words:\n",
    "    word = '..' + word\n",
    "    for a, b, c in zip(word, word[1:], word[2:]):\n",
    "        idxa = stoi[a]\n",
    "        idxb = stoi[b]\n",
    "        idxc = stoi[c]\n",
    "        x1s.append(idxa)\n",
    "        x2s.append(idxb)\n",
    "        ys.append(idxc)\n",
    "x1s = torch.tensor(x1s)\n",
    "x2s = torch.tensor(x2s)\n",
    "ys = torch.tensor(ys)"
   ]
  },
  {
   "cell_type": "code",
   "execution_count": 289,
   "metadata": {},
   "outputs": [
    {
     "data": {
      "text/plain": [
       "tensor([ 0,  0,  5,  ..., 26, 26, 25])"
      ]
     },
     "execution_count": 289,
     "metadata": {},
     "output_type": "execute_result"
    }
   ],
   "source": [
    "x1s"
   ]
  },
  {
   "cell_type": "code",
   "execution_count": 290,
   "metadata": {},
   "outputs": [
    {
     "data": {
      "text/plain": [
       "tensor([[ 1.5674, -0.2373, -0.0274,  ..., -0.0707,  2.4968,  2.4448],\n",
       "        [-0.6701, -1.2199,  0.3031,  ...,  0.8032,  0.5411, -1.1646],\n",
       "        [ 0.1476, -1.0006,  0.3801,  ..., -0.6279,  0.0770, -1.1641],\n",
       "        ...,\n",
       "        [ 0.5283, -0.9056, -0.0124,  ..., -0.9310, -0.0919,  0.1651],\n",
       "        [-0.7125,  0.6541,  0.8071,  ..., -1.1854,  1.0008,  0.9374],\n",
       "        [-0.2512, -0.8699,  0.5397,  ...,  0.0908, -0.4618, -0.8567]],\n",
       "       requires_grad=True)"
      ]
     },
     "execution_count": 290,
     "metadata": {},
     "output_type": "execute_result"
    }
   ],
   "source": [
    "g = torch.Generator().manual_seed(2147483647)\n",
    "W = torch.randn((2 * ALPHABET_SIZE, ALPHABET_SIZE), generator=g, requires_grad=True)\n",
    "W"
   ]
  },
  {
   "cell_type": "code",
   "execution_count": 291,
   "metadata": {},
   "outputs": [
    {
     "data": {
      "text/plain": [
       "tensor([[1., 0., 0.,  ..., 0., 0., 0.],\n",
       "        [1., 0., 0.,  ..., 0., 0., 0.],\n",
       "        [0., 0., 0.,  ..., 0., 0., 0.],\n",
       "        ...,\n",
       "        [0., 0., 0.,  ..., 0., 0., 1.],\n",
       "        [0., 0., 0.,  ..., 0., 1., 0.],\n",
       "        [0., 0., 0.,  ..., 0., 0., 1.]])"
      ]
     },
     "execution_count": 291,
     "metadata": {},
     "output_type": "execute_result"
    }
   ],
   "source": [
    "xenc = torch.cat((F.one_hot(x1s, ALPHABET_SIZE), F.one_hot(x2s, ALPHABET_SIZE)), dim=1).float()\n",
    "xenc"
   ]
  },
  {
   "cell_type": "code",
   "execution_count": 292,
   "metadata": {},
   "outputs": [
    {
     "data": {
      "text/plain": [
       "tensor([[0.0820, 0.0239, 0.0099,  ..., 0.0094, 0.0734, 0.1608],\n",
       "        [0.0237, 0.0177, 0.0107,  ..., 0.0026, 0.0264, 0.0407],\n",
       "        [0.0224, 0.0482, 0.0110,  ..., 0.0040, 0.0079, 0.2616],\n",
       "        ...,\n",
       "        [0.0226, 0.0052, 0.0080,  ..., 0.0058, 0.0161, 0.0014],\n",
       "        [0.0230, 0.0385, 0.0168,  ..., 0.0026, 0.1119, 0.0137],\n",
       "        [0.0108, 0.0015, 0.0071,  ..., 0.0063, 0.0154, 0.0022]],\n",
       "       grad_fn=<DivBackward0>)"
      ]
     },
     "execution_count": 292,
     "metadata": {},
     "output_type": "execute_result"
    }
   ],
   "source": [
    "logits = xenc @ W\n",
    "counts = logits.exp()\n",
    "prob = counts / counts.sum(dim=1, keepdim=True)\n",
    "prob"
   ]
  },
  {
   "cell_type": "code",
   "execution_count": 293,
   "metadata": {},
   "outputs": [
    {
     "data": {
      "text/plain": [
       "tensor(1., grad_fn=<SumBackward0>)"
      ]
     },
     "execution_count": 293,
     "metadata": {},
     "output_type": "execute_result"
    }
   ],
   "source": [
    "prob[0].sum()"
   ]
  },
  {
   "cell_type": "code",
   "execution_count": null,
   "metadata": {},
   "outputs": [],
   "source": []
  },
  {
   "cell_type": "code",
   "execution_count": 294,
   "metadata": {},
   "outputs": [
    {
     "data": {
      "text/plain": [
       "tensor([0, 1, 2, 3, 4, 5, 6, 7, 8, 9])"
      ]
     },
     "execution_count": 294,
     "metadata": {},
     "output_type": "execute_result"
    }
   ],
   "source": [
    "torch.arange(10)"
   ]
  },
  {
   "cell_type": "code",
   "execution_count": 295,
   "metadata": {},
   "outputs": [],
   "source": [
    "def step(lr, N, W, xenc, ys):\n",
    "    W.grad = None\n",
    "    logits = xenc @ W\n",
    "    counts = logits.exp()\n",
    "    probs = counts / counts.sum(dim=1, keepdim=True)\n",
    "\n",
    "    loss = -probs[torch.arange(N), ys].log().mean()\n",
    "\n",
    "    loss.backward()\n",
    "\n",
    "    W.data -= lr * W.grad\n",
    "    return loss.item()"
   ]
  },
  {
   "cell_type": "code",
   "execution_count": 296,
   "metadata": {},
   "outputs": [],
   "source": [
    "def train(steps, lr):\n",
    "    g = torch.Generator().manual_seed(2147483647)\n",
    "    W = torch.randn((2 * ALPHABET_SIZE, ALPHABET_SIZE), generator=g, requires_grad=True)   \n",
    "    losses = [] \n",
    "    for _ in range(steps):\n",
    "        losses.append(step(lr, x1s.nelement(), W, xenc, ys))\n",
    "    plt.xlabel('Step')\n",
    "    plt.ylabel('Loss')\n",
    "    plt.plot(losses)\n",
    "    plt.show()\n",
    "    print(losses[-1])"
   ]
  },
  {
   "cell_type": "code",
   "execution_count": 297,
   "metadata": {},
   "outputs": [
    {
     "data": {
      "image/png": "[encoded data removed]",
      "text/plain": [
       "<Figure size 640x480 with 1 Axes>"
      ]
     },
     "metadata": {},
     "output_type": "display_data"
    },
    {
     "name": "stdout",
     "output_type": "stream",
     "text": [
      "2.370595932006836\n"
     ]
    }
   ],
   "source": [
    "train(250, 25.0)"
   ]
  },
  {
   "cell_type": "code",
   "execution_count": null,
   "metadata": {},
   "outputs": [],
   "source": []
  }
 ],
 "metadata": {
  "kernelspec": {
   "display_name": "makemore",
   "language": "python",
   "name": "python3"
  },
  "language_info": {
   "codemirror_mode": {
    "name": "ipython",
    "version": 3
   },
   "file_extension": ".py",
   "mimetype": "text/x-python",
   "name": "python",
   "nbconvert_exporter": "python",
   "pygments_lexer": "ipython3",
   "version": "3.11.1"
  },
  "orig_nbformat": 4
 },
 "nbformat": 4,
 "nbformat_minor": 2
}
