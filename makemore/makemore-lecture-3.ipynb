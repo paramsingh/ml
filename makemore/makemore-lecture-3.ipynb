{
 "cells": [
  {
   "cell_type": "code",
   "execution_count": 297,
   "metadata": {},
   "outputs": [],
   "source": [
    "import torch\n",
    "import matplotlib.pyplot as plt\n",
    "import torch.nn.functional as F\n",
    "%matplotlib inline"
   ]
  },
  {
   "cell_type": "code",
   "execution_count": 298,
   "metadata": {},
   "outputs": [],
   "source": [
    "with open('names.txt', 'r') as f:\n",
    "    words = f.read().splitlines()"
   ]
  },
  {
   "cell_type": "code",
   "execution_count": 299,
   "metadata": {},
   "outputs": [
    {
     "name": "stdout",
     "output_type": "stream",
     "text": [
      "{1: 'a', 2: 'b', 3: 'c', 4: 'd', 5: 'e', 6: 'f', 7: 'g', 8: 'h', 9: 'i', 10: 'j', 11: 'k', 12: 'l', 13: 'm', 14: 'n', 15: 'o', 16: 'p', 17: 'q', 18: 'r', 19: 's', 20: 't', 21: 'u', 22: 'v', 23: 'w', 24: 'x', 25: 'y', 26: 'z', 0: '.'}\n"
     ]
    }
   ],
   "source": [
    "ALPHABET_SIZE = 27\n",
    "all_chars = sorted(list(set(''.join(words))))\n",
    "stoi = {c: i+1 for i, c in enumerate(all_chars)}\n",
    "stoi['.'] = 0\n",
    "itos = {i: c for c, i in stoi.items()}\n",
    "print(itos)"
   ]
  },
  {
   "cell_type": "code",
   "execution_count": 300,
   "metadata": {},
   "outputs": [],
   "source": [
    "# let's prepare the data\n",
    "BLOCK_SIZE = 3\n",
    "def build(words):\n",
    "    X = []\n",
    "    Y = []\n",
    "    for word in words:\n",
    "        context = [0] * BLOCK_SIZE\n",
    "        for letter in word + '.':\n",
    "            letter_index = stoi[letter]\n",
    "            X.append(context[:])\n",
    "            Y.append(letter_index)\n",
    "            context = context[1:] + [letter_index]\n",
    "    return torch.tensor(X), torch.tensor(Y)\n"
   ]
  },
  {
   "cell_type": "code",
   "execution_count": 301,
   "metadata": {},
   "outputs": [],
   "source": [
    "import random\n",
    "random.seed(42)\n",
    "random.shuffle(words)\n",
    "n1 = int(len(words) * 0.8)\n",
    "n2 = int(len(words) * 0.9)\n",
    "X_train, Y_train = build(words[:n1])\n",
    "X_valid, Y_valid = build(words[n1:n2])\n",
    "X_test, Y_test = build(words[n2:])\n"
   ]
  },
  {
   "cell_type": "code",
   "execution_count": 302,
   "metadata": {},
   "outputs": [
    {
     "data": {
      "text/plain": [
       "(torch.int64, torch.int64)"
      ]
     },
     "execution_count": 302,
     "metadata": {},
     "output_type": "execute_result"
    }
   ],
   "source": [
    "X_train.dtype, Y_train.dtype"
   ]
  },
  {
   "cell_type": "code",
   "execution_count": 303,
   "metadata": {},
   "outputs": [],
   "source": [
    "g = torch.Generator().manual_seed(2147483647) # for reproducibility\n",
    "EMBEDDING_SIZE = 10\n",
    "C = torch.randn((ALPHABET_SIZE, EMBEDDING_SIZE), generator=g, requires_grad=True)"
   ]
  },
  {
   "cell_type": "code",
   "execution_count": 304,
   "metadata": {},
   "outputs": [],
   "source": [
    "HIDDEN_LAYER_OUTPUTS = 200\n",
    "W1 = torch.randn((EMBEDDING_SIZE * BLOCK_SIZE, HIDDEN_LAYER_OUTPUTS), generator=g, requires_grad=True)\n",
    "b1 = torch.randn((HIDDEN_LAYER_OUTPUTS), generator=g, requires_grad=True)"
   ]
  },
  {
   "cell_type": "code",
   "execution_count": 305,
   "metadata": {},
   "outputs": [],
   "source": [
    "W2 = torch.randn((HIDDEN_LAYER_OUTPUTS, ALPHABET_SIZE), generator=g, requires_grad=True)\n",
    "b2 = torch.randn((ALPHABET_SIZE), generator=g, requires_grad=True)"
   ]
  },
  {
   "cell_type": "code",
   "execution_count": 306,
   "metadata": {},
   "outputs": [
    {
     "data": {
      "text/plain": [
       "11897"
      ]
     },
     "execution_count": 306,
     "metadata": {},
     "output_type": "execute_result"
    }
   ],
   "source": [
    "parameters = [C, W1, b1, W2, b2]\n",
    "sum(p.nelement() for p in parameters) # number of parameters in total"
   ]
  },
  {
   "cell_type": "code",
   "execution_count": 307,
   "metadata": {},
   "outputs": [],
   "source": [
    "BATCH_SIZE = 64\n",
    "\n",
    "def step(X, Y, sc):\n",
    "\n",
    "    batch_indices = torch.randint(0, X.shape[0], (BATCH_SIZE,))\n",
    "    batchX = X[batch_indices]\n",
    "    batchY = Y[batch_indices]\n",
    "    # forward pass\n",
    "    \n",
    "    embeddings = C[batchX]\n",
    "    hidden_outputs = (embeddings.view(-1, EMBEDDING_SIZE * BLOCK_SIZE) @ W1 + b1).tanh()\n",
    "    outputs = hidden_outputs @ W2 + b2\n",
    "    loss = F.cross_entropy(outputs, batchY)\n",
    "\n",
    "    # backward pass\n",
    "    for param in parameters:\n",
    "        param.grad = None\n",
    "    \n",
    "    loss.backward()\n",
    "\n",
    "    # update params\n",
    "    LEARNING_RATE = 0.1 if sc < 100_000 else 0.01\n",
    "    for param in parameters:\n",
    "        param.data += -LEARNING_RATE * param.grad\n",
    "    return loss.item()"
   ]
  },
  {
   "cell_type": "code",
   "execution_count": null,
   "metadata": {},
   "outputs": [],
   "source": []
  },
  {
   "cell_type": "code",
   "execution_count": 308,
   "metadata": {},
   "outputs": [],
   "source": [
    "steps = []\n",
    "losses = []"
   ]
  },
  {
   "cell_type": "code",
   "execution_count": 309,
   "metadata": {},
   "outputs": [
    {
     "name": "stdout",
     "output_type": "stream",
     "text": [
      "Step 10000: loss 2.350511312484741\n",
      "Step 20000: loss 2.587509870529175\n",
      "Step 30000: loss 2.153770923614502\n",
      "Step 40000: loss 2.097691774368286\n",
      "Step 50000: loss 2.133617639541626\n",
      "Step 60000: loss 2.2354753017425537\n",
      "Step 70000: loss 2.5024335384368896\n",
      "Step 80000: loss 2.084158182144165\n",
      "Step 90000: loss 2.1504836082458496\n",
      "Step 100000: loss 2.250014305114746\n",
      "Step 110000: loss 2.4556729793548584\n",
      "Step 120000: loss 1.9877341985702515\n",
      "Step 130000: loss 2.0738635063171387\n",
      "Step 140000: loss 2.223524570465088\n",
      "Step 150000: loss 1.9074287414550781\n",
      "Step 160000: loss 1.9966199398040771\n",
      "Step 170000: loss 2.2242093086242676\n",
      "Step 180000: loss 2.0010135173797607\n",
      "Step 190000: loss 2.222118854522705\n",
      "Step 200000: loss 1.979178786277771\n",
      "Step 210000: loss 2.2274885177612305\n",
      "Step 220000: loss 2.3746726512908936\n",
      "Step 230000: loss 1.894091010093689\n",
      "Step 240000: loss 2.2333567142486572\n",
      "Step 250000: loss 2.1746695041656494\n",
      "Step 260000: loss 1.8424348831176758\n",
      "Step 270000: loss 2.158682346343994\n",
      "Step 280000: loss 1.906005859375\n",
      "Step 290000: loss 2.267308235168457\n",
      "Step 300000: loss 2.123263359069824\n",
      "Step 310000: loss 2.077714204788208\n",
      "Step 320000: loss 2.07716965675354\n",
      "Step 330000: loss 2.0372095108032227\n",
      "Step 340000: loss 2.3884634971618652\n",
      "Step 350000: loss 2.0324928760528564\n",
      "Step 360000: loss 2.103219509124756\n",
      "Step 370000: loss 1.9960817098617554\n",
      "Step 380000: loss 2.105069398880005\n",
      "Step 390000: loss 2.1279821395874023\n",
      "Step 400000: loss 2.097238063812256\n"
     ]
    },
    {
     "data": {
      "text/plain": [
       "[<matplotlib.lines.Line2D at 0x1774a4f50>]"
      ]
     },
     "execution_count": 309,
     "metadata": {},
     "output_type": "execute_result"
    },
    {
     "data": {
      "image/png": "[encoded data removed]",
      "text/plain": [
       "<Figure size 640x480 with 1 Axes>"
      ]
     },
     "metadata": {},
     "output_type": "display_data"
    }
   ],
   "source": [
    "for _ in range(400_000):\n",
    "    step_num = len(steps) + 1\n",
    "    steps.append(step_num)\n",
    "    loss = step(X_train, Y_train, step_num)\n",
    "    losses.append(loss)\n",
    "    if step_num % 10000 == 0:\n",
    "        print(f\"Step {step_num}: loss {loss}\")\n",
    "\n",
    "plt.plot(steps, losses)"
   ]
  },
  {
   "cell_type": "code",
   "execution_count": 310,
   "metadata": {},
   "outputs": [],
   "source": [
    "def calculate_loss(X, Y):\n",
    "    with torch.no_grad():\n",
    "        embeddings = C[X]\n",
    "        hidden_outputs = (embeddings.view(-1, EMBEDDING_SIZE * BLOCK_SIZE) @ W1 + b1).tanh()\n",
    "        outputs = hidden_outputs @ W2 + b2\n",
    "        loss = F.cross_entropy(outputs, Y)\n",
    "        print(loss)"
   ]
  },
  {
   "cell_type": "code",
   "execution_count": 311,
   "metadata": {},
   "outputs": [
    {
     "name": "stdout",
     "output_type": "stream",
     "text": [
      "tensor(2.1039)\n"
     ]
    }
   ],
   "source": [
    "calculate_loss(X_train, Y_train)"
   ]
  },
  {
   "cell_type": "code",
   "execution_count": 312,
   "metadata": {},
   "outputs": [
    {
     "name": "stdout",
     "output_type": "stream",
     "text": [
      "tensor(2.1449)\n"
     ]
    }
   ],
   "source": [
    "calculate_loss(X_valid, Y_valid)"
   ]
  },
  {
   "cell_type": "code",
   "execution_count": 313,
   "metadata": {},
   "outputs": [
    {
     "name": "stdout",
     "output_type": "stream",
     "text": [
      "tensor(2.1418)\n"
     ]
    }
   ],
   "source": [
    "calculate_loss(X_test, Y_test)"
   ]
  },
  {
   "cell_type": "code",
   "execution_count": null,
   "metadata": {},
   "outputs": [],
   "source": []
  }
 ],
 "metadata": {
  "kernelspec": {
   "display_name": "makemore",
   "language": "python",
   "name": "python3"
  },
  "language_info": {
   "codemirror_mode": {
    "name": "ipython",
    "version": 3
   },
   "file_extension": ".py",
   "mimetype": "text/x-python",
   "name": "python",
   "nbconvert_exporter": "python",
   "pygments_lexer": "ipython3",
   "version": "3.11.1"
  },
  "orig_nbformat": 4
 },
 "nbformat": 4,
 "nbformat_minor": 2
}
