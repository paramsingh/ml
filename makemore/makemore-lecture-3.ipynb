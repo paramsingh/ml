{
 "cells": [
  {
   "cell_type": "code",
   "execution_count": 158,
   "metadata": {},
   "outputs": [],
   "source": [
    "import torch\n",
    "import matplotlib.pyplot as plt\n",
    "import torch.nn.functional as F\n",
    "%matplotlib inline"
   ]
  },
  {
   "cell_type": "code",
   "execution_count": 159,
   "metadata": {},
   "outputs": [],
   "source": [
    "with open('names.txt', 'r') as f:\n",
    "    words = f.read().splitlines()"
   ]
  },
  {
   "cell_type": "code",
   "execution_count": 160,
   "metadata": {},
   "outputs": [],
   "source": [
    "ALPHABET_SIZE = 27\n",
    "all_chars = sorted(list(set(''.join(words))))\n",
    "stoi = {c: i+1 for i, c in enumerate(all_chars)}\n",
    "stoi['.'] = 0\n",
    "itos = {i: c for c, i in stoi.items()}"
   ]
  },
  {
   "cell_type": "code",
   "execution_count": 161,
   "metadata": {},
   "outputs": [],
   "source": [
    "# let's prepare the data\n",
    "BLOCK_SIZE = 3\n",
    "def build(words):\n",
    "    X = []\n",
    "    Y = []\n",
    "    for word in words:\n",
    "        context = [0] * BLOCK_SIZE\n",
    "        for letter in word + '.':\n",
    "            letter_index = stoi[letter]\n",
    "            X.append(context[:])\n",
    "            Y.append(letter_index)\n",
    "            context = context[1:] + [letter_index]\n",
    "    return torch.tensor(X), torch.tensor(Y)\n",
    "\n",
    "X, Y = build(words)"
   ]
  },
  {
   "cell_type": "code",
   "execution_count": 162,
   "metadata": {},
   "outputs": [],
   "source": [
    "g = torch.Generator().manual_seed(2147483647) # for reproducibility\n",
    "EMBEDDING_SIZE = 10\n",
    "C = torch.randn((ALPHABET_SIZE, EMBEDDING_SIZE), generator=g, requires_grad=True)"
   ]
  },
  {
   "cell_type": "code",
   "execution_count": 163,
   "metadata": {},
   "outputs": [],
   "source": [
    "HIDDEN_LAYER_OUTPUTS = 200\n",
    "W1 = torch.randn((EMBEDDING_SIZE * BLOCK_SIZE, HIDDEN_LAYER_OUTPUTS), generator=g, requires_grad=True)\n",
    "b1 = torch.randn((HIDDEN_LAYER_OUTPUTS), generator=g, requires_grad=True)"
   ]
  },
  {
   "cell_type": "code",
   "execution_count": 169,
   "metadata": {},
   "outputs": [
    {
     "data": {
      "text/plain": [
       "torch.Size([27])"
      ]
     },
     "execution_count": 169,
     "metadata": {},
     "output_type": "execute_result"
    }
   ],
   "source": [
    "W2 = torch.randn((HIDDEN_LAYER_OUTPUTS, ALPHABET_SIZE), generator=g, requires_grad=True)\n",
    "b2 = torch.randn((ALPHABET_SIZE), generator=g, requires_grad=True)"
   ]
  },
  {
   "cell_type": "code",
   "execution_count": 165,
   "metadata": {},
   "outputs": [],
   "source": [
    "parameters = [C, W1, b1, W2, b2]"
   ]
  },
  {
   "cell_type": "code",
   "execution_count": 166,
   "metadata": {},
   "outputs": [],
   "source": [
    "def step(X, Y):\n",
    "    # forward pass\n",
    "    embeddings = C[X]\n",
    "    hidden_outputs = (embeddings.view(-1, EMBEDDING_SIZE * BLOCK_SIZE) @ W1 + b1).tanh()\n",
    "    outputs = hidden_outputs @ W2 + b2\n",
    "    loss = F.cross_entropy(outputs, Y)\n",
    "\n",
    "    # backward pass\n",
    "    for param in parameters:\n",
    "        param.grad = None\n",
    "    \n",
    "    loss.backward()\n",
    "\n",
    "    # update params\n",
    "    LEARNING_RATE = 0.1\n",
    "    for param in parameters:\n",
    "        param.data += -LEARNING_RATE * param.grad\n",
    "    return loss.item()"
   ]
  },
  {
   "cell_type": "code",
   "execution_count": 167,
   "metadata": {},
   "outputs": [],
   "source": [
    "steps = []\n",
    "losses = []"
   ]
  },
  {
   "cell_type": "code",
   "execution_count": 168,
   "metadata": {},
   "outputs": [
    {
     "name": "stdout",
     "output_type": "stream",
     "text": [
      "Step 0: loss 26.00634002685547\n",
      "Step 50: loss 9.886689186096191\n"
     ]
    },
    {
     "data": {
      "text/plain": [
       "[<matplotlib.lines.Line2D at 0x13f0af410>]"
      ]
     },
     "execution_count": 168,
     "metadata": {},
     "output_type": "execute_result"
    },
    {
     "data": {
      "image/png": "[encoded data removed]",
      "text/plain": [
       "<Figure size 640x480 with 1 Axes>"
      ]
     },
     "metadata": {},
     "output_type": "display_data"
    }
   ],
   "source": [
    "for step_num in range(100):\n",
    "    steps.append(len(steps) + 1)\n",
    "    loss = step(X, Y)\n",
    "    losses.append(loss)\n",
    "    if step_num % 50 == 0:\n",
    "        print(f\"Step {step_num}: loss {loss}\")\n",
    "\n",
    "plt.plot(steps, losses)"
   ]
  },
  {
   "cell_type": "code",
   "execution_count": null,
   "metadata": {},
   "outputs": [],
   "source": []
  },
  {
   "cell_type": "code",
   "execution_count": null,
   "metadata": {},
   "outputs": [],
   "source": []
  },
  {
   "cell_type": "code",
   "execution_count": null,
   "metadata": {},
   "outputs": [],
   "source": []
  }
 ],
 "metadata": {
  "kernelspec": {
   "display_name": "makemore",
   "language": "python",
   "name": "python3"
  },
  "language_info": {
   "codemirror_mode": {
    "name": "ipython",
    "version": 3
   },
   "file_extension": ".py",
   "mimetype": "text/x-python",
   "name": "python",
   "nbconvert_exporter": "python",
   "pygments_lexer": "ipython3",
   "version": "3.11.1"
  },
  "orig_nbformat": 4
 },
 "nbformat": 4,
 "nbformat_minor": 2
}
