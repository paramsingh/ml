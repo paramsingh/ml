{
 "cells": [
  {
   "cell_type": "code",
   "execution_count": 37,
   "metadata": {},
   "outputs": [],
   "source": [
    "import torch\n",
    "import matplotlib.pyplot as plt\n",
    "import torch.nn.functional as F\n",
    "%matplotlib inline"
   ]
  },
  {
   "cell_type": "code",
   "execution_count": 38,
   "metadata": {},
   "outputs": [],
   "source": [
    "with open('names.txt', 'r') as f:\n",
    "    words = f.read().splitlines()"
   ]
  },
  {
   "cell_type": "code",
   "execution_count": 39,
   "metadata": {},
   "outputs": [],
   "source": [
    "ALPHABET_SIZE = 27\n",
    "all_chars = sorted(list(set(''.join(words))))\n",
    "stoi = {c: i+1 for i, c in enumerate(all_chars)}\n",
    "stoi['.'] = 0\n",
    "itos = {i: c for c, i in stoi.items()}"
   ]
  },
  {
   "cell_type": "code",
   "execution_count": 40,
   "metadata": {},
   "outputs": [
    {
     "data": {
      "text/plain": [
       "torch.Size([228146, 3])"
      ]
     },
     "execution_count": 40,
     "metadata": {},
     "output_type": "execute_result"
    }
   ],
   "source": [
    "# let's prepare the data\n",
    "BLOCK_SIZE = 3\n",
    "def build(words):\n",
    "    X = []\n",
    "    Y = []\n",
    "    for word in words:\n",
    "        context = [0] * BLOCK_SIZE\n",
    "        for letter in word + '.':\n",
    "            letter_index = stoi[letter]\n",
    "            X.append(context[:])\n",
    "            Y.append(letter_index)\n",
    "            context = context[1:] + [letter_index]\n",
    "    return torch.tensor(X), torch.tensor(Y)\n"
   ]
  },
  {
   "cell_type": "code",
   "execution_count": null,
   "metadata": {},
   "outputs": [],
   "source": [
    "import random\n",
    "random.seed(42)\n",
    "random.shuffle(words)\n",
    "n1 = int(len(words) * 0.8)\n",
    "n2 = int(len(words) * 0.9)\n",
    "X_train, Y_train = build(words[:n1])\n",
    "X_valid, Y_valid = build(words[n1:n2])\n",
    "X_test, Y_test = build(words[n2:])\n"
   ]
  },
  {
   "cell_type": "code",
   "execution_count": 71,
   "metadata": {},
   "outputs": [],
   "source": [
    "g = torch.Generator().manual_seed(2147483647) # for reproducibility\n",
    "EMBEDDING_SIZE = 10\n",
    "C = torch.randn((ALPHABET_SIZE, EMBEDDING_SIZE), generator=g, requires_grad=True)"
   ]
  },
  {
   "cell_type": "code",
   "execution_count": 72,
   "metadata": {},
   "outputs": [],
   "source": [
    "HIDDEN_LAYER_OUTPUTS = 200\n",
    "W1 = torch.randn((EMBEDDING_SIZE * BLOCK_SIZE, HIDDEN_LAYER_OUTPUTS), generator=g, requires_grad=True)\n",
    "b1 = torch.randn((HIDDEN_LAYER_OUTPUTS), generator=g, requires_grad=True)"
   ]
  },
  {
   "cell_type": "code",
   "execution_count": 73,
   "metadata": {},
   "outputs": [],
   "source": [
    "W2 = torch.randn((HIDDEN_LAYER_OUTPUTS, ALPHABET_SIZE), generator=g, requires_grad=True)\n",
    "b2 = torch.randn((ALPHABET_SIZE), generator=g, requires_grad=True)"
   ]
  },
  {
   "cell_type": "code",
   "execution_count": 74,
   "metadata": {},
   "outputs": [],
   "source": [
    "parameters = [C, W1, b1, W2, b2]"
   ]
  },
  {
   "cell_type": "code",
   "execution_count": 75,
   "metadata": {},
   "outputs": [],
   "source": [
    "BATCH_SIZE = 32\n",
    "\n",
    "def step(X, Y, sc):\n",
    "\n",
    "    batch_indices = torch.randint(0, X.shape[0], (BATCH_SIZE,))\n",
    "    batchX = X[batch_indices]\n",
    "    batchY = Y[batch_indices]\n",
    "    # forward pass\n",
    "    \n",
    "    embeddings = C[batchX]\n",
    "    hidden_outputs = (embeddings.view(-1, EMBEDDING_SIZE * BLOCK_SIZE) @ W1 + b1).tanh()\n",
    "    outputs = hidden_outputs @ W2 + b2\n",
    "    loss = F.cross_entropy(outputs, batchY)\n",
    "\n",
    "    # backward pass\n",
    "    for param in parameters:\n",
    "        param.grad = None\n",
    "    \n",
    "    loss.backward()\n",
    "\n",
    "    # update params\n",
    "    LEARNING_RATE = 0.1 if sc < 100_000 else 0.01\n",
    "    for param in parameters:\n",
    "        param.data += -LEARNING_RATE * param.grad\n",
    "    return loss.item()"
   ]
  },
  {
   "cell_type": "code",
   "execution_count": 76,
   "metadata": {},
   "outputs": [],
   "source": [
    "steps = []\n",
    "losses = []"
   ]
  },
  {
   "cell_type": "code",
   "execution_count": 77,
   "metadata": {},
   "outputs": [
    {
     "name": "stdout",
     "output_type": "stream",
     "text": [
      "Step 10000: loss 2.470569372177124\n",
      "Step 20000: loss 2.72412109375\n",
      "Step 30000: loss 2.172492504119873\n",
      "Step 40000: loss 2.758690118789673\n",
      "Step 50000: loss 2.6549386978149414\n",
      "Step 60000: loss 2.5502572059631348\n",
      "Step 70000: loss 2.338013172149658\n",
      "Step 80000: loss 1.908426284790039\n",
      "Step 90000: loss 1.8035835027694702\n",
      "Step 100000: loss 2.4789180755615234\n",
      "Step 110000: loss 2.167339324951172\n",
      "Step 120000: loss 2.0131263732910156\n",
      "Step 130000: loss 1.6652344465255737\n",
      "Step 140000: loss 1.884928822517395\n",
      "Step 150000: loss 2.1991190910339355\n",
      "Step 160000: loss 1.973751187324524\n",
      "Step 170000: loss 2.1544389724731445\n",
      "Step 180000: loss 2.1477363109588623\n",
      "Step 190000: loss 1.9382455348968506\n",
      "Step 200000: loss 1.9254928827285767\n"
     ]
    },
    {
     "data": {
      "text/plain": [
       "[<matplotlib.lines.Line2D at 0x16a111f10>]"
      ]
     },
     "execution_count": 77,
     "metadata": {},
     "output_type": "execute_result"
    },
    {
     "data": {
      "image/png": "[encoded data removed]",
      "text/plain": [
       "<Figure size 640x480 with 1 Axes>"
      ]
     },
     "metadata": {},
     "output_type": "display_data"
    }
   ],
   "source": [
    "for _ in range(200000):\n",
    "    step_num = len(steps) + 1\n",
    "    steps.append(step_num)\n",
    "    loss = step(X_train, Y_train, step_num)\n",
    "    losses.append(loss)\n",
    "    if step_num % 10000 == 0:\n",
    "        print(f\"Step {step_num}: loss {loss}\")\n",
    "\n",
    "plt.plot(steps, losses)"
   ]
  },
  {
   "cell_type": "code",
   "execution_count": 48,
   "metadata": {},
   "outputs": [
    {
     "data": {
      "text/plain": [
       "tensor([191504,  30774, 117886,  74464, 119332, 187508,  68037, 116351, 191807,\n",
       "         78769,   9180,  45456,  55077,   6994,  75062, 105234, 216701,  67355,\n",
       "         61600,  43977, 197830, 115280,  37263,  87258, 133865,  30912, 160813,\n",
       "         17115, 147313, 192363,  10944, 224671])"
      ]
     },
     "execution_count": 48,
     "metadata": {},
     "output_type": "execute_result"
    }
   ],
   "source": [
    "ix = torch.randint(0, X.shape[0], (32,))\n",
    "ix"
   ]
  },
  {
   "cell_type": "code",
   "execution_count": 78,
   "metadata": {},
   "outputs": [
    {
     "data": {
      "text/plain": [
       "1.9254928827285767"
      ]
     },
     "execution_count": 78,
     "metadata": {},
     "output_type": "execute_result"
    }
   ],
   "source": [
    "def calculate_loss(X, Y):\n",
    "    embeddings = C[X]\n",
    "    hidden_outputs = (embeddings.view(-1, EMBEDDING_SIZE * BLOCK_SIZE) @ W1 + b1).tanh()\n",
    "    outputs = hidden_outputs @ W2 + b2\n",
    "    loss = F.cross_entropy(outputs, Y)\n",
    "    print(loss.item())"
   ]
  },
  {
   "cell_type": "code",
   "execution_count": null,
   "metadata": {},
   "outputs": [],
   "source": [
    "calculate_loss(X_train, Y_train)"
   ]
  },
  {
   "cell_type": "code",
   "execution_count": null,
   "metadata": {},
   "outputs": [],
   "source": [
    "calculate_loss(X_valid, Y_valid)"
   ]
  }
 ],
 "metadata": {
  "kernelspec": {
   "display_name": "makemore",
   "language": "python",
   "name": "python3"
  },
  "language_info": {
   "codemirror_mode": {
    "name": "ipython",
    "version": 3
   },
   "file_extension": ".py",
   "mimetype": "text/x-python",
   "name": "python",
   "nbconvert_exporter": "python",
   "pygments_lexer": "ipython3",
   "version": "3.11.1"
  },
  "orig_nbformat": 4
 },
 "nbformat": 4,
 "nbformat_minor": 2
}
